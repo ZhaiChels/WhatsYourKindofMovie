{
 "cells": [
  {
   "cell_type": "code",
   "execution_count": 37,
   "metadata": {},
   "outputs": [],
   "source": [
    "import numpy as np\n",
    "import pandas as pd\n",
    "import matplotlib.pyplot as plt\n",
    "import collections\n",
    "import nltk\n",
    "from nltk.corpus import stopwords\n",
    "import networkx as nx\n",
    "import community\n",
    "import random\n",
    "import string\n",
    "import operator\n",
    "from collections import Counter\n",
    "from community import community_louvain\n",
    "\n",
    "%matplotlib inline"
   ]
  },
  {
   "cell_type": "code",
   "execution_count": 2,
   "metadata": {},
   "outputs": [],
   "source": [
    "df_reviews = pd.read_csv('review_master.txt', encoding='utf-8', sep='\\t')\n",
    "del df_reviews['Unnamed: 0']"
   ]
  },
  {
   "cell_type": "code",
   "execution_count": 3,
   "metadata": {},
   "outputs": [],
   "source": [
    "df_reviews = df_reviews.sort_values('timestamp_combined', ascending=False)"
   ]
  },
  {
   "cell_type": "code",
   "execution_count": 4,
   "metadata": {},
   "outputs": [],
   "source": [
    "df_reviews = df_reviews.reset_index(drop=True)"
   ]
  },
  {
   "cell_type": "code",
   "execution_count": 5,
   "metadata": {},
   "outputs": [],
   "source": [
    "df_half = df_reviews.iloc[0 : int(len(df_reviews['userId'])/450)]"
   ]
  },
  {
   "cell_type": "code",
   "execution_count": 6,
   "metadata": {},
   "outputs": [],
   "source": [
    "S1 = pd.read_csv('S1.csv',encoding='utf-8')"
   ]
  },
  {
   "cell_type": "code",
   "execution_count": 7,
   "metadata": {},
   "outputs": [
    {
     "data": {
      "text/html": [
       "<div>\n",
       "<style scoped>\n",
       "    .dataframe tbody tr th:only-of-type {\n",
       "        vertical-align: middle;\n",
       "    }\n",
       "\n",
       "    .dataframe tbody tr th {\n",
       "        vertical-align: top;\n",
       "    }\n",
       "\n",
       "    .dataframe thead th {\n",
       "        text-align: right;\n",
       "    }\n",
       "</style>\n",
       "<table border=\"1\" class=\"dataframe\">\n",
       "  <thead>\n",
       "    <tr style=\"text-align: right;\">\n",
       "      <th></th>\n",
       "      <th>word</th>\n",
       "      <th>happiness_rank</th>\n",
       "      <th>happiness_average</th>\n",
       "      <th>happiness_standard_deviation</th>\n",
       "      <th>twitter_rank</th>\n",
       "      <th>google_rank</th>\n",
       "      <th>nyt_rank</th>\n",
       "      <th>lyrics_rank</th>\n",
       "    </tr>\n",
       "  </thead>\n",
       "  <tbody>\n",
       "    <tr>\n",
       "      <th>0</th>\n",
       "      <td>laughter</td>\n",
       "      <td>1</td>\n",
       "      <td>8.50</td>\n",
       "      <td>0.9313</td>\n",
       "      <td>3600</td>\n",
       "      <td>--</td>\n",
       "      <td>--</td>\n",
       "      <td>1728</td>\n",
       "    </tr>\n",
       "    <tr>\n",
       "      <th>1</th>\n",
       "      <td>happiness</td>\n",
       "      <td>2</td>\n",
       "      <td>8.44</td>\n",
       "      <td>0.9723</td>\n",
       "      <td>1853</td>\n",
       "      <td>2458</td>\n",
       "      <td>--</td>\n",
       "      <td>1230</td>\n",
       "    </tr>\n",
       "    <tr>\n",
       "      <th>2</th>\n",
       "      <td>love</td>\n",
       "      <td>3</td>\n",
       "      <td>8.42</td>\n",
       "      <td>1.1082</td>\n",
       "      <td>25</td>\n",
       "      <td>317</td>\n",
       "      <td>328</td>\n",
       "      <td>23</td>\n",
       "    </tr>\n",
       "    <tr>\n",
       "      <th>3</th>\n",
       "      <td>happy</td>\n",
       "      <td>4</td>\n",
       "      <td>8.30</td>\n",
       "      <td>0.9949</td>\n",
       "      <td>65</td>\n",
       "      <td>1372</td>\n",
       "      <td>1313</td>\n",
       "      <td>375</td>\n",
       "    </tr>\n",
       "    <tr>\n",
       "      <th>4</th>\n",
       "      <td>laughed</td>\n",
       "      <td>5</td>\n",
       "      <td>8.26</td>\n",
       "      <td>1.1572</td>\n",
       "      <td>3334</td>\n",
       "      <td>3542</td>\n",
       "      <td>--</td>\n",
       "      <td>2332</td>\n",
       "    </tr>\n",
       "  </tbody>\n",
       "</table>\n",
       "</div>"
      ],
      "text/plain": [
       "        word  happiness_rank  happiness_average  happiness_standard_deviation  \\\n",
       "0   laughter               1               8.50                        0.9313   \n",
       "1  happiness               2               8.44                        0.9723   \n",
       "2       love               3               8.42                        1.1082   \n",
       "3      happy               4               8.30                        0.9949   \n",
       "4    laughed               5               8.26                        1.1572   \n",
       "\n",
       "  twitter_rank google_rank nyt_rank lyrics_rank  \n",
       "0         3600          --       --        1728  \n",
       "1         1853        2458       --        1230  \n",
       "2           25         317      328          23  \n",
       "3           65        1372     1313         375  \n",
       "4         3334        3542       --        2332  "
      ]
     },
     "execution_count": 7,
     "metadata": {},
     "output_type": "execute_result"
    }
   ],
   "source": [
    "S1.head()"
   ]
  },
  {
   "cell_type": "code",
   "execution_count": 8,
   "metadata": {},
   "outputs": [],
   "source": [
    "def cal_sentiment(lst):\n",
    "    # create a word count dictionary to keep track of the frequency of the words\n",
    "    word_count = {}\n",
    "    all_count = Counter(lst)\n",
    "    \n",
    "    for i in set(lst):\n",
    "        if i in list(S1[\"word\"]):\n",
    "            word_count[i] = all_count[i]\n",
    "    \n",
    "    # computation for the sentiment score based on the formula\n",
    "    total_freq = sum(list(word_count.values()))\n",
    "    result = 0\n",
    "    for word in word_count.keys():\n",
    "        p = word_count[word]/total_freq\n",
    "        h = float(S1[S1[\"word\"] == word][\"happiness_average\"])\n",
    "        result += p*h\n",
    "    \n",
    "    return result"
   ]
  },
  {
   "cell_type": "code",
   "execution_count": 9,
   "metadata": {},
   "outputs": [
    {
     "data": {
      "text/html": [
       "<div>\n",
       "<style scoped>\n",
       "    .dataframe tbody tr th:only-of-type {\n",
       "        vertical-align: middle;\n",
       "    }\n",
       "\n",
       "    .dataframe tbody tr th {\n",
       "        vertical-align: top;\n",
       "    }\n",
       "\n",
       "    .dataframe thead th {\n",
       "        text-align: right;\n",
       "    }\n",
       "</style>\n",
       "<table border=\"1\" class=\"dataframe\">\n",
       "  <thead>\n",
       "    <tr style=\"text-align: right;\">\n",
       "      <th></th>\n",
       "      <th>userId</th>\n",
       "      <th>movieId</th>\n",
       "      <th>userId_movieId</th>\n",
       "      <th>rating_combined</th>\n",
       "      <th>tag_combined</th>\n",
       "      <th>timestamp_combined</th>\n",
       "    </tr>\n",
       "  </thead>\n",
       "  <tbody>\n",
       "    <tr>\n",
       "      <th>0</th>\n",
       "      <td>82922</td>\n",
       "      <td>167780</td>\n",
       "      <td>82922167780</td>\n",
       "      <td>4.0</td>\n",
       "      <td>NaN</td>\n",
       "      <td>1.537945e+09</td>\n",
       "    </tr>\n",
       "    <tr>\n",
       "      <th>1</th>\n",
       "      <td>82922</td>\n",
       "      <td>53519</td>\n",
       "      <td>8292253519</td>\n",
       "      <td>4.0</td>\n",
       "      <td>NaN</td>\n",
       "      <td>1.537945e+09</td>\n",
       "    </tr>\n",
       "    <tr>\n",
       "      <th>2</th>\n",
       "      <td>280481</td>\n",
       "      <td>494</td>\n",
       "      <td>280481494</td>\n",
       "      <td>3.0</td>\n",
       "      <td>NaN</td>\n",
       "      <td>1.537945e+09</td>\n",
       "    </tr>\n",
       "    <tr>\n",
       "      <th>3</th>\n",
       "      <td>280481</td>\n",
       "      <td>2355</td>\n",
       "      <td>2804812355</td>\n",
       "      <td>3.0</td>\n",
       "      <td>NaN</td>\n",
       "      <td>1.537945e+09</td>\n",
       "    </tr>\n",
       "    <tr>\n",
       "      <th>4</th>\n",
       "      <td>280481</td>\n",
       "      <td>2294</td>\n",
       "      <td>2804812294</td>\n",
       "      <td>2.0</td>\n",
       "      <td>NaN</td>\n",
       "      <td>1.537945e+09</td>\n",
       "    </tr>\n",
       "  </tbody>\n",
       "</table>\n",
       "</div>"
      ],
      "text/plain": [
       "   userId  movieId  userId_movieId  rating_combined tag_combined  \\\n",
       "0   82922   167780     82922167780              4.0          NaN   \n",
       "1   82922    53519      8292253519              4.0          NaN   \n",
       "2  280481      494       280481494              3.0          NaN   \n",
       "3  280481     2355      2804812355              3.0          NaN   \n",
       "4  280481     2294      2804812294              2.0          NaN   \n",
       "\n",
       "   timestamp_combined  \n",
       "0        1.537945e+09  \n",
       "1        1.537945e+09  \n",
       "2        1.537945e+09  \n",
       "3        1.537945e+09  \n",
       "4        1.537945e+09  "
      ]
     },
     "execution_count": 9,
     "metadata": {},
     "output_type": "execute_result"
    }
   ],
   "source": [
    "df_half.head()"
   ]
  },
  {
   "cell_type": "code",
   "execution_count": 10,
   "metadata": {},
   "outputs": [
    {
     "data": {
      "text/plain": [
       "[167780,\n",
       " 53519,\n",
       " 165831,\n",
       " 52281,\n",
       " 99766,\n",
       " 1089,\n",
       " 968,\n",
       " 185029,\n",
       " 189783,\n",
       " 192551,\n",
       " 191367,\n",
       " 111663,\n",
       " 65216,\n",
       " 90578,\n",
       " 176933,\n",
       " 189333]"
      ]
     },
     "execution_count": 10,
     "metadata": {},
     "output_type": "execute_result"
    }
   ],
   "source": [
    "list(df_half[df_half['userId']==82922]['movieId'])"
   ]
  },
  {
   "cell_type": "code",
   "execution_count": 11,
   "metadata": {},
   "outputs": [],
   "source": [
    "user_movie = {}\n",
    "for user in list(set(df_half['userId'])):\n",
    "    if user not in user_movie:\n",
    "        user_movie[user]=list(df_half[df_half['userId']==user]['movieId'])"
   ]
  },
  {
   "cell_type": "code",
   "execution_count": 12,
   "metadata": {},
   "outputs": [],
   "source": [
    "user_tag ={}\n",
    "for user in list(set(df_half['userId'])):\n",
    "    if user not in user_tag:\n",
    "        user_tag[user]=list(df_half[df_half['userId']==user]['tag_combined'])"
   ]
  },
  {
   "cell_type": "code",
   "execution_count": 13,
   "metadata": {},
   "outputs": [],
   "source": [
    "df_half2 = df_half.copy()\n",
    "df_half2 = df_half2[pd.notnull(df_half2['tag_combined'])]"
   ]
  },
  {
   "cell_type": "code",
   "execution_count": 14,
   "metadata": {},
   "outputs": [],
   "source": [
    "user_tag_noNAN ={}\n",
    "for user in list(set(df_half2['userId'])):\n",
    "    if user not in user_tag_noNAN:\n",
    "        user_tag_noNAN[user]=list(df_half2[df_half2['userId']==user]['tag_combined'])"
   ]
  },
  {
   "cell_type": "code",
   "execution_count": 15,
   "metadata": {},
   "outputs": [
    {
     "data": {
      "text/plain": [
       "{29184: ['{bittersweet, education, friendship, inspirational}'],\n",
       " 167427: ['{aboriginal, Martin Freeman, post-apocalyptic}'],\n",
       " 253957: ['{atmospheric, black and white, Cinematography, Dialogues, femme fatale, film noir, Jane Greer, Kirk Douglas, Robert Mitchum}',\n",
       "  '{corporate malfeasance, mental illness, mental institution, stalker, thriller}',\n",
       "  '{Misleading horror, revenge, wrath}',\n",
       "  '{Creepy, cult film, murder, psycho, psycho killer, psychopath, serial killer, shower}',\n",
       "  '{atmospheric, cinematography, disturbing, folk horror, historical, history, horror, New England, Paranoia, psychological, Superstition, witchcraft}',\n",
       "  '{attic, doll, found footage, haunting, high school friends, supernatural powers}',\n",
       "  '{Body parts, Gore, Horror, Kelly Paterniti, Plot twist, Serial killer, Twist ending, Workplace}',\n",
       "  '{ed helms, Jason Segel, relationships, signs, unravelling emotional issues}',\n",
       "  '{comedy, Jim Carrey, over the top, silly fun}'],\n",
       " 39942: ['{long, period piece}'],\n",
       " 258053: ['{boring, no resolution, slow}'],\n",
       " 47622: ['{2D animation, classical music}'],\n",
       " 139276: ['{Anthony Hopkins, Jodie Foster, psychological, psychology}',\n",
       "  '{Coen brothers, George Clooney, pointless, Scarlett Johansson, Third Act Problems}',\n",
       "  '{Alan Turing, code breaking, computer science, Computers, cryptography, history, intelligent, Keira Knightley, mathematics, World War II}',\n",
       "  '{biography, Daniel Day-Lewis, history}',\n",
       "  '{bad book adaptation}',\n",
       "  '{intelligent, mindfuck, parallel universe, sci-fi, science fiction, stylized, time loop, time travel, twists & turns}',\n",
       "  '{Dark Humor}'],\n",
       " 107532: ['{80s soundtrack, dark comedy, dialogue, John Cusack, Minnie Driver}'],\n",
       " 51725: ['{satire}'],\n",
       " 253455: ['{based on a video game, Dwayne Johnson, First Person Movie, monsters, video game adaptation}',\n",
       "  '{leatherface, psychos, texas, Texas Chainsaw Massacre, torture}',\n",
       "  '{Batman, Ben Affleck, DC Comics, DCEU, Ezra Miller, Gal Gadot, superhero, Superman, Wonder woman, Zach Snyder}'],\n",
       " 218125: ['{cult film, existentialism, mindfuck, nihilism, weird}'],\n",
       " 97298: ['{Predictable}', '{Atmospheric, Slow pace}'],\n",
       " 259093: ['{space opera}'],\n",
       " 118805: ['{hand colored, hand tinted}',\n",
       "  '{hand colored}',\n",
       "  '{hand colored}',\n",
       "  '{surreal}',\n",
       "  '{Ethiopia, post-apocalyptic, surreal}'],\n",
       " 3609: ['{Sci-fi}'],\n",
       " 196633: ['{Quirky, Wes Anderson}'],\n",
       " 77339: ['{prospect}',\n",
       "  '{might like}',\n",
       "  '{might like}',\n",
       "  '{reviewed}',\n",
       "  '{objective strong}',\n",
       "  '{might like}',\n",
       "  '{prospect}',\n",
       "  '{Anne Revere, Elizabeth Taylor, horse racing, Oscar (Best Supporting Actress)}',\n",
       "  '{lily james, music, stylish}',\n",
       "  '{reviewed}',\n",
       "  '{reviewed}',\n",
       "  '{reviewed}',\n",
       "  '{prospect}',\n",
       "  \"{Pam's list, reviewed}\",\n",
       "  '{might like}',\n",
       "  '{might like}',\n",
       "  '{might like}',\n",
       "  '{might like}',\n",
       "  '{might like}',\n",
       "  '{might like}',\n",
       "  '{might like}',\n",
       "  '{prospect}',\n",
       "  '{reviewed}',\n",
       "  '{Anson Mount, authentic, Julianne Nicholson}',\n",
       "  '{Mid-life Crisis}',\n",
       "  \"{Pam's list, reviewed}\",\n",
       "  '{prospect}',\n",
       "  '{coming of age, middle school, teenage girl}',\n",
       "  '{prospect}'],\n",
       " 142364: ['{trash}'],\n",
       " 67612: ['{Christopher Walken, friendship, Meryl Streep, Robert De Niro, Vietnam War}'],\n",
       " 156190: ['{concert, hostage, kidnapping, opera singer, rebel, revolution, singer, singing, song, stockholm syndrome}',\n",
       "  '{aggression, Amnesia, flashback, Psychological Thriller, therapist, unreliable narrator}',\n",
       "  '{cartel, mexican cartel, Mexico, people smuggling, sequel}',\n",
       "  '{female nudity, Nudity, Nudity (Full Frontal), Nudity (Topless), torture, torture porn}',\n",
       "  '{aliens, heist, origin story, prequel, robots, smuggler, space opera, spaceship, spin off, star wars}'],\n",
       " 60960: ['{social commentary, social critique}'],\n",
       " 109602: ['{language}',\n",
       "  '{Terry Gilliam}',\n",
       "  '{parody, retro-futuristic, ridiculous}'],\n",
       " 88614: ['{bad science, Jessica Biel, Kate Beckinsale, plot holes, the whole movie is just one long chase scene}',\n",
       "  '{action, dark fantasy, female lead}',\n",
       "  '{soundtrack}',\n",
       "  '{product placement}',\n",
       "  '{based on a comic}'],\n",
       " 206888: ['{heist, jewelry, jewels, necklace, New York City, revenge}',\n",
       "  '{Africa, boer war, courtroom, military, South Africa, war crimes}',\n",
       "  \"{Alzheimer's disease, Canada, cross country skiing, memory loss, nursing home, Ontario}\",\n",
       "  '{high school, road trip, student, teacher}',\n",
       "  '{addiction, alcoholism, coming of age, Georgia}',\n",
       "  '{automobile racing, daredevil, newspaper, race, reporter, slapstick, suffrage}'],\n",
       " 128553: ['{true story}',\n",
       "  '{civil rights, history}',\n",
       "  '{strong female character}',\n",
       "  '{death penalty, emotional}'],\n",
       " 195628: ['{Aneesh Chaganty}', '{J. Lee Thompson}'],\n",
       " 187950: ['{animation, anime, beautiful, friendship, Hiromasa Yonebayashi, Studio Ghibli}',\n",
       "  '{ambiguous character alignments, Hayao Miyazaki}'],\n",
       " 185903: [\"{atmospheric, cinematography, great soundtrack, no depth, Retro 80's Synth Pop, Ryan Gosling, slow, stylized, visually appealing}\",\n",
       "  '{acceptance, childish, creative, cute, funny, identity politics, rich animation, tolerance, visually stunning}',\n",
       "  '{documentary, earth, not a movie, oceans, sharks}',\n",
       "  '{china, cliché, dumb, filmed in New Zealand, marine life, monster, ocean, predictable, shark, whales}',\n",
       "  '{ballet, dancing, new york city}'],\n",
       " 148529: ['{Alfredo Landa, anticonception, comic, family, housemaid, José Luis Coll, landismo, marital rape, sexual repression}',\n",
       "  '{Madrid}',\n",
       "  '{Madrid}',\n",
       "  '{Madrid}',\n",
       "  '{Madrid}',\n",
       "  '{Madrid}',\n",
       "  '{Madrid}',\n",
       "  '{Madrid}',\n",
       "  '{Madrid}',\n",
       "  '{Madrid}',\n",
       "  '{1538, Arturo Pérez-Reverte, bureaucracy, Christianity, Conquistador, execution, Francisco de Quevedo, gold, greed, Indian, jungle, lust, Pacific Ocean, rape, renegade, soldier, Spanish conquest of the Americas, violence}'],\n",
       " 202289: ['{love, stop motion}'],\n",
       " 193589: ['{Amazing Cinematography, Anthony Hopkins, big brother, Brad Pitt, Director: Edward Zwick, emotional, great acting, Romance}'],\n",
       " 79418: ['{Canadian, coming of age, friendship, gender identity, high school, lgbtq, sexuality, teen}'],\n",
       " 29243: ['{enigmatic, suspense}'],\n",
       " 45629: ['{limited payoff}', '{David Fincher}'],\n",
       " 574: ['{Realistic}'],\n",
       " 84543: ['{shaky cam, weak plot}',\n",
       "  '{boring, pretentious, unoriginal, weak plot}',\n",
       "  '{bad science, illogical, plot holes, pretentious, shaky cam}',\n",
       "  '{illogical, plot holes, shaky cam}',\n",
       "  '{bad science, boring, pretentious}',\n",
       "  '{bad science, illogical, nonsense, plot holes}',\n",
       "  '{incest}',\n",
       "  '{cheap scares}',\n",
       "  '{plot holes}'],\n",
       " 7235: ['{Body Horror, Horror, Independent, Thriller}', '{occult}'],\n",
       " 152136: ['{Artful action sequences, british comedy, espionage, funny, silly, spy}'],\n",
       " 182355: ['{Tennis}'],\n",
       " 140371: ['{musicians}'],\n",
       " 62551: ['{Christmas, narrated}',\n",
       "  '{Asian, Awkwafina, China, Cinderella, Culture clash, Drama, Fashion, Materialism, romantic comedy, romcom, Seen 2018, wealth, Wedding}'],\n",
       " 116825: ['{based on a book, black comedy, Charlie Kaufman, clever concept, comedy, dark comedy, drama, drugs, Florida, intellectual, literate, melancholy, meryl streep, meta, movie business, narrated, Nicolas Cage, nudity, Nudity (Topless), obsession, original plot, profound, quirky, romance, schizophrenia, Spike Jonze, surreal, Tilda Swinton, twins, understated, weird, writer, writers, writing process}',\n",
       "  '{1930s, atmospheric, bleak, classic, complicated, cynical, dark, Exceptional Acting, Film Noir, incest, investigation, Jack Nicholson, Los Angeles, masterpiece, murder, mystery, neo-noir, noir thriller, Nudity (Topless - Brief), private detective, Roman Polanski, somber, twists & turns}',\n",
       "  '{alien contact, aliens, astronomy, based on a book, beautiful, Carl Sagan, existentialism, first contact, future, idealism, inspirational, Jodie Foster, mathematics, Matthew McConaughey, open ending, outer space, preachy, religion, Robert Zemeckis, romance, sci-fi, science, science fiction, space, space travel, wormhole}',\n",
       "  '{atmospheric, court, courtroom, courtroom drama, edward norton, Gregory Hoblit, nudity, psychology, Richard Gere, split personality, suspense, thought-provoking, twist ending}',\n",
       "  '{Almodovar, coma, compassionate, friendship, loneliness, psychology, rape, relationships, sexuality, spanish, Tragedy}',\n",
       "  '{adventure, Audrey Tautou, based on a book, conspiracy theory, Mystery, original plot, Paris, religion, Tom Hanks, treasure hunt}',\n",
       "  '{aliens, alternate reality, amnesia, atmospheric, cerebral, creepy, cult film, dark, dark fantasy, dreamlike, dystopia, existentialism, fake memories, fantasy, film noir, Jennifer Connelly, Kiefer Sutherland, memory, mindfuck, Neo-noir, Nudity (Topless), original, philosophy, Post apocalyptic, post-apocalyptic, sci-fi, steampunk, stylized, surreal, thought-provoking, visually appealing, visually stunning}',\n",
       "  '{Amy Adams, boxing, brothers, chick fight, Christian Bale, cliche, drug addict, drug addiction, family relationships, Mark Wahlberg, Massachusetts, mother-son relationship, police brutality, sexy redhead, sports, true story, white trash}',\n",
       "  '{abduction, based on a book, Casey Affleck, child abuse, conspiracy, detective, drugs, Ed Harris, foul language, kidnapping, morality, Morgan Freeman, mystery, pedophile, police, police investigation, twist}',\n",
       "  '{adoption, bittersweet, Dev Patel, Garth Davis, india, parental love, parting, poverty, true story}'],\n",
       " 266841: ['{based on a true story, Boring}',\n",
       "  '{beautiful scenery, predictable, thought-provoking}',\n",
       "  '{realistic}',\n",
       "  '{based on a true story, psychology}'],\n",
       " 245857: ['{creepy, dramatization, SFX, shadows}',\n",
       "  '{aliens, anime, cat, space marines, virus}',\n",
       "  '{blaxploitation, cop, demonic possession, different titles, gang war, genre mixing, kung fu, low budget, magic amulet, martial arts, subway tunnels, transformation}',\n",
       "  '{animal sacrifice, burned at the stake, coven, curse, human sacrifice, mute, public domain, RiffTrax, rural horror, witch, witch burning, witch trial}',\n",
       "  '{ambiguous ending, antichrist, devil, disjointed, human sacrifice, hunting, mental disorder, occult, paraplegic, psychic, SFX, slow, tattoo, video game, visions}',\n",
       "  '{alien, comic books, soldiers, war, WWII}',\n",
       "  '{Best eyeshadow ever, different titles, George A Romero, house wives, housewife, nightmare, witch, witchcraft}',\n",
       "  '{b movie, dead pets, ensemble cast, late-night movie, love triangle, low-budget, mutant, robot sidekick, Roger Corman, sauna, sexy, space saxophone solo, surgery}'],\n",
       " 152161: ['{clever premise, irony, social commentary}',\n",
       "  '{film noir, plot twist}',\n",
       "  '{Vodkaster list}'],\n",
       " 128610: ['{doppelganger, Julie Delpy}',\n",
       "  '{Rob Zombie}',\n",
       "  '{Chance The Rapper, Comedy Horror, Cult Classic, Future Cult Classic, Joe Keery, Midnight Screening, Zazie Beetz}'],\n",
       " 266853: ['{atmosphere, cinematography, incest}'],\n",
       " 263786: ['{Alan Tudyk, black comedy, clever, dark comedy, misunderstandings}'],\n",
       " 85617: ['{Action, Brad Pitt, funny, husband-wife relationship, romantic comedy, smart, sexy, stylish, Spy}'],\n",
       " 15476: ['{Apocalypse, Japanese}',\n",
       "  '{drama, Japanese, job-hunting}',\n",
       "  '{Comedy, Gay, Homosexual, Japanese}',\n",
       "  '{Family, Japanese, Marriage, Romance}',\n",
       "  '{japanese, netflix, romantic comedy}'],\n",
       " 152698: ['{foreign language}'],\n",
       " 131710: ['{1930s, acting, based on a true story, Beautiful, Britain, cinematography, Colin Firth, complex characters, disability, drama, emotional, England, excellent script, father-son relationship, feel-good, friendship, Geoffrey Rush, great performances, great soundtrack, Guy Pearce, Helena Bonham Carter, historical, IMDB Top 250, inspirational, king, language, London, Oscar (Best Picture), oscar bait, Oscar Nominee: Best Picture, Oscar Winner: Best Picture, period piece, politics, predictable, royalty, slow, speech, stammering, stutter, stuttering, therapy, true story, United Kingdom, war}'],\n",
       " 168574: ['{Christopher Nolan, Hans Zimmer, interesting ideea, Matthew McConaughey, Michael Caine, philosophical issues, space travel, thought-provoking, visually appealing}',\n",
       "  '{action, aliens, predator}'],\n",
       " 65153: ['{espionage, plot twist, Russia}'],\n",
       " 4226: ['{dreamy, sweet}',\n",
       "  '{beautifully shot, great soundtrack, self discovery}',\n",
       "  '{great soundtrack}'],\n",
       " 231554: ['{Great villain}',\n",
       "  '{Future dystopia}',\n",
       "  '{Ian McKellen, James McAvoy, Michael Fassbender, Peter Dinklage, science fiction, time travel}'],\n",
       " 267396: ['{Satire, twist ending}'],\n",
       " 5765: ['{characters, Dark, dialogue, good acting, Julia Roberts, London, love, Natalie Portman, Nudity (Rear), photography, psychology, relationships, sex}',\n",
       "  '{harrison ford, immortal, immortality, predictable, romance}',\n",
       "  '{romantic, young tom cruise}',\n",
       "  '{based on a book, drugs, dystopia, emotional, live action/animation, philosophical, Stanislaw Lem, visuals}',\n",
       "  '{action, Africa, Civil War, corruption, journalism, Leonardo DiCaprio, photography, politics, sacrifice, slavery, war}'],\n",
       " 193160: ['{black comedy, Great cast, Satire}'],\n",
       " 65680: ['{Business}'],\n",
       " 255632: ['{merfolk}'],\n",
       " 16020: ['{Evil Pumpkins, Hallowen, warlock}'],\n",
       " 153753: ['{dystopia}',\n",
       "  '{campy, cheesy, cult film, cult movie, cyberpunk}',\n",
       "  '{atmospheric, bleak, Criterion, Lars von Trier, stylized}',\n",
       "  '{dark comedy, surrealism}'],\n",
       " 117409: ['{Disaster, mockumentary, New York City}',\n",
       "  '{Boorish, Camping, Couple, Poor Script}',\n",
       "  '{cult film, insomnia, quirky, surreal, surrealism}',\n",
       "  '{based on a book, confusing, kafkaesque, loneliness, thought-provoking}',\n",
       "  '{dentist, New York City, Supernatural}',\n",
       "  '{memory, nonlinear, psychology, thought-provoking}'],\n",
       " 174248: ['{cia, double life}',\n",
       "  '{cyborg, future}',\n",
       "  '{horror, mystery}',\n",
       "  '{romance, second chance}',\n",
       "  '{space opera, star wars}',\n",
       "  '{patriotic, Vietnam War}',\n",
       "  '{cia, nuclear bomb}',\n",
       "  '{great acting, psychological}',\n",
       "  '{conspiracy, thriller, twist ending}'],\n",
       " 186025: ['{entropy, science, smart}'],\n",
       " 236721: ['{car chase, high-altitude parachute jump, Mission Impossible, motorcycle chase, Spy, Tom Cruise}'],\n",
       " 195253: ['{Dark, Funny, Underrated, Violent}',\n",
       "  '{better than expected, wholesome}'],\n",
       " 121528: ['{atmospheric, Daniel Day-Lewis, greed, intense, morality, oil, Oscar (Best Cinematography), visually appealing}'],\n",
       " 94905: ['{marvel, references, sex scenes, superhero}'],\n",
       " 221882: ['{action, adventure, animation, comedy, fantasy, fun, kids, yeti}'],\n",
       " 98491: ['{business, ethics, financial crisis, realistic, strange ending}'],\n",
       " 118460: ['{brother relationship, Dublin, Music, school, underdog story}'],\n",
       " 78523: ['{ozploitation}'],\n",
       " 63167: ['{Chris Hemsworth, Kate McKinnon, long, Melissa McCarthy}',\n",
       "  '{80s, cheesy, funny}'],\n",
       " 68802: ['{amputee, drama, generations, ghosts, haunting, historical, horror, house, ireland, irish, lake, love, mansion, obligation, parents, romance, siblings, twins, war}'],\n",
       " 153795: ['{nudity (topless)}', '{black and white, Shirley Temple, WWII}'],\n",
       " 67268: ['{predictable}'],\n",
       " 29892: ['{computers, documentary, nsa, surveillance, thought provoking}'],\n",
       " 125637: ['{social critique}'],\n",
       " 167117: ['{see imdb parents guide about r rating}',\n",
       "  '{melancholy}',\n",
       "  '{asperger, french, gifted}'],\n",
       " 74447: ['{black and white, comedy, friendship, fun, marriage, Mexican, Mexico, musical, romance}',\n",
       "  '{gore, gory, male stripper, mean spirited, terminal illness}',\n",
       "  '{gun control, potty humor, rape jokes}',\n",
       "  '{Mafia, Martin Scorsese, organized crime, robert de niro}',\n",
       "  '{Compassion, Dog, europe, prehistoric, snow}',\n",
       "  '{anthony hopkins, crime, ray liotta, small town}',\n",
       "  '{gore, nudity, violent}',\n",
       "  '{clever writing, feminism}',\n",
       "  '{journalism, Strong female lead}',\n",
       "  '{boring, cliffhanger}',\n",
       "  '{bad acting, boring, diverse cast, plain}'],\n",
       " 102614: ['{atmospheric, Scarlett Johansson, visually appealing}',\n",
       "  '{Jake Gyllenhaal}',\n",
       "  '{anne hathaway, Cate Blanchett, heist, sandra bullock}',\n",
       "  '{Alex Garland, aliens, mysterious, Natalie Portman, sci-fi, Tense, thought-provoking, Visually appealing}',\n",
       "  '{cynical, good dialogue, quirky, witty}',\n",
       "  '{Edgar Wright, geeky, quirky, stylized, surreal, unlikable characters, whimsical}',\n",
       "  '{Alan Rickman, Robin Hood}',\n",
       "  '{comedy-drama, emotional, heartwarming, quirky, Ryan Gosling, sweet, touching, weird}',\n",
       "  '{Adventure, father-son relationship, Harrison Ford, Sean Connery, Steven Spielberg, treasure}'],\n",
       " 259801: ['{action, Bruce Willis, sequel}',\n",
       "  '{action, Alan Rickman, Bruce Willis, explosions, humorous, lone hero}',\n",
       "  '{comedy, Keanu Reeves, time travel}'],\n",
       " 31449: ['{music, musicians, sequel}',\n",
       "  '{beatufilull, funny, romantic, Russell Crowe, WWI}'],\n",
       " 205531: ['{body exchange, gender swap}',\n",
       "  '{1950s, Christopher Lloyd, Crispin Glover, DeLorean, inventor, Lea Thompson, Michael J. Fox, time travel}',\n",
       "  '{gymnast, kung fu}',\n",
       "  '{bride}',\n",
       "  '{film noir}',\n",
       "  '{Christmas}',\n",
       "  '{train, witness to murder}',\n",
       "  '{Christmas}',\n",
       "  '{Ray Bradbury}'],\n",
       " 9440: ['{cult}'],\n",
       " 17633: ['{atmospheric, minimalist}'],\n",
       " 3298: ['{Sad, touching}'],\n",
       " 6884: ['{Cerebral, colorful, DNA, evolution, Original, sci-fi, surreal, thought-provoking, visually stunning}'],\n",
       " 69860: ['{Foreign}'],\n",
       " 282342: ['{100 Acre Wood, Childhood, England, Ewan McGregor, Family, Friends, Heartfelt, London, Loss of Innocence, Magical Realism, Winnie the Pooh, World War Two}',\n",
       "  '{Anna Kendrick, Based on a Book, Blake Lively, Dark Comedy, Great Soundtrack, Murder, Passes Bechdel Test, Twist}',\n",
       "  \"{Angry Farmer, Daisey Ridley, England, James Corden, Kids' Movie, Man Vs. Nature, Margot Robbie, Predictable, Rose Byrne, The Lake District}\"],\n",
       " 140517: ['{Bully, Bullying, Emotional, Netflix}',\n",
       "  '{detainee, female protagonist, female soldier, guantanamo bay, prison, unlikely friendship}'],\n",
       " 212203: ['{ridley scott}',\n",
       "  '{horror, post-apocalyptic, zombies}',\n",
       "  '{tom cruise}',\n",
       "  '{cornetto trilogy, Edgar Wright, Martin Freeman, Nick Frost, Simon Pegg}',\n",
       "  '{Korean}',\n",
       "  '{dumb, sexist}',\n",
       "  '{post apocalyptic, survival}',\n",
       "  '{Quirky, Wes Anderson}'],\n",
       " 134380: ['{Nice!}'],\n",
       " 232688: ['{bullying, Touching}'],\n",
       " 37617: ['{Al Pacino, Robin Williams, thought-provoking}',\n",
       "  '{heartwarming, in the minds of pets, Kate Micucci, Steve Howey}',\n",
       "  '{based on a book, book was better, sci-fi}',\n",
       "  '{great dialogue, history, intelligent, plotting}',\n",
       "  '{great acting, justice prevails, powerful ending, twist ending}'],\n",
       " 165618: ['{artistic, awesome soundtrack, crude humor, cute, funny, geeky, hilarious, Michael Cera, music, soundtrack, visually appealing}',\n",
       "  '{cute, happy ending, lesbian, lgbt, Natasha Lyonne, sexuality}'],\n",
       " 268531: ['{forceful, prostitution}',\n",
       "  '{chemistry between actors, clever dialogue, funny, happy ending, Nudity (Rear), sex}',\n",
       "  '{adultery, comedy, father daughter relationship, funny, love}',\n",
       "  '{arms dealer, funny, superhero}'],\n",
       " 222962: ['{Ambitious, daily life, great dialogue, life, realism}',\n",
       "  '{conversation, honest, long takes, philosophical, romance, unique}',\n",
       "  '{dialogue, great dialogue, philosophical}',\n",
       "  '{bittersweet, conversation, intelligent, philosophy, reflective, thought-provoking}'],\n",
       " 267509: ['{cliché}'],\n",
       " 2294: ['{symbolic}',\n",
       "  '{Parent-child relationships}',\n",
       "  '{revenge, vigilante}',\n",
       "  '{Insurance scam}',\n",
       "  '{heist, Miss lonely heart}',\n",
       "  '{gentle soul}',\n",
       "  '{prositution}',\n",
       "  '{elite athletes}'],\n",
       " 66809: ['{Agnès Varda, beautifully filmed, family, female director, feminist, Jean Renoir, Love Triangle, social commentary, thought-provoking, visually appealing}'],\n",
       " 63230: ['{autism, biography, biology, character driven, disability, genius, inspirational, mental illness, science, true story}'],\n",
       " 197889: ['{atmospheric, black and white, surreal}'],\n",
       " 259331: ['{bad book adaptation, book adaptation, fantasy, gunslinger, Matthew McConaughey, parallel worlds, Stephen King}',\n",
       "  '{bad acting, bad dialogue, bad plot, dystopia, Dystopian, Future, Netflix, nonsensical, Noomi Rapace, overpopulation, population control, Sci-Fi Thriller, Willem Dafoe}',\n",
       "  '{bad plot, based on a book, BDSM, Foul language, love, Romance, unrealistic}',\n",
       "  '{crime, dark comedy, Julianne Moore, Matt Damon, murder, racial inequality}',\n",
       "  '{Bad acting, bullshit, CIA, Convoluted Plot, espionage, Jennifer Lawrence, Russia, russian spy, sex, spy, Too Long, unreal}',\n",
       "  '{alien, music, musical, short}',\n",
       "  '{artificial intelligence, cyberpunk, cyborg, future, implant, near future, revenge, twist}',\n",
       "  '{alien invasion, Based on book, biologist, colorful, confusing ending, mutation, mysterious, Natalie Portman, Nature, sci-fi, scientist, Visually appealing, visually stunning}'],\n",
       " 268548: ['{comedy, Terry Crews}'],\n",
       " 193799: ['{gun control, politics, strong female lead}',\n",
       "  '{sea, survival, true story}',\n",
       "  '{Adventure}',\n",
       "  '{internet}'],\n",
       " 190218: ['{Dark, Visually appealing}', '{dystopia}'],\n",
       " 83723: ['{inspirational}'],\n",
       " 75020: ['{predictable}'],\n",
       " 277772: ['{coming of age}'],\n",
       " 193807: ['{Dark Comedy}'],\n",
       " 11536: ['{sacrifice}',\n",
       "  '{classic, great soundtrack}',\n",
       "  '{classic sci-fi, epic adventure, sci-fi}',\n",
       "  '{dark comedy}',\n",
       "  '{aging, Drama}',\n",
       "  '{social commentary}',\n",
       "  '{adventure}',\n",
       "  '{gay romance, melancholy}',\n",
       "  '{funny minions, quirky}',\n",
       "  '{immigrants, multicultural}',\n",
       "  '{bad dialogue, Incomprehensible, plot holes, time travel}',\n",
       "  '{Stupid}',\n",
       "  '{twisted fairy tales, witty}'],\n",
       " 210707: ['{1970s, alien, based on short story, london, music, period piece, punk, teenagers}'],\n",
       " 239894: ['{bad science}',\n",
       "  '{first contact, nonlinear timeline, plot twist, Sci-fi, thoughtful sci-fi}'],\n",
       " 80152: ['{Kevin Spacey, Psychology, thought-provoking, twist-ending}'],\n",
       " 55577: ['{Bad storyline, franchise}'],\n",
       " 88859: ['{kidnapping, rape, sexual assault}',\n",
       "  '{One-Liners}',\n",
       "  '{dystopia}',\n",
       "  '{Christopher Lloyd, comedy, Robert Zemeckis}',\n",
       "  '{bunker, dark, good twists, surprise ending, survival, survivalist, unexpected ending}',\n",
       "  '{Mel Brooks, parody}',\n",
       "  '{dark, Stanley Kubrick, Vietnam war, violence}',\n",
       "  '{Anthology, George A. Romero}',\n",
       "  '{clever twists}',\n",
       "  '{Bechdel Test:Fail, comedy, Gene Wilder, Mel Brooks, parody, satire, satirical, social commentary}',\n",
       "  '{all male, disturbing, gory, great special effects, horror, John Carpenter, Kurt Russell, paranoia, practical effects}',\n",
       "  '{dark, dark fantasy, film noir, Neo-noir, Nudity (Topless)}'],\n",
       " 247580: ['{dystopia, mental illness, mindfuck, post-apocalyptic, time travel}'],\n",
       " 271131: ['{Jerzy Skolimowski}',\n",
       "  '{atmospheric, based on true events, British history, Gary Oldman, history, Joe Wright, Oscar Nominee: Best Picture, war, WWII}'],\n",
       " 11039: ['{claymation, sad}', '{group of friends, growing up, over-the-top}'],\n",
       " 93471: ['{dream relationship, fame, friendship, stalking}',\n",
       "  '{immigrants, lgbtq+}',\n",
       "  '{family, lgbtq+, love affair}',\n",
       "  '{friendship, homophobia, lgbtq+}',\n",
       "  '{alternative family, brazilian, homophobia, lgbtq+}',\n",
       "  '{belief, lgbtq+, religion}',\n",
       "  '{frindship, lgbtq+, relationship, sexuality}',\n",
       "  '{cancer, father/son relationship, lgbtq+}',\n",
       "  '{acceptance, friendship, homophobia, lgbtq+}',\n",
       "  '{brothers, lgbtq+, troubled family}',\n",
       "  '{Argentina, Family, grandmother/grandchild relationship, lgbtq+}',\n",
       "  '{chirstmas, ghost, guardian angel, matchmaker, romance}',\n",
       "  '{depression, frienship, suicide, support}',\n",
       "  '{friendship, gay, lgbtq, Soccer}',\n",
       "  '{past and present}',\n",
       "  '{friendship, lgbtq+, secret, transgender}',\n",
       "  '{lgbtq+, mother/daughter relationship, relationships}',\n",
       "  '{coming of age, gay, labyrinth, male prostitute, metaphor}',\n",
       "  '{catfish, friendship, loser}',\n",
       "  '{crushes, sisters}'],\n",
       " 185633: ['{boring, child actors, unnecessary action scenes, zombies}'],\n",
       " 248607: ['{foreign}', '{foreign}', '{foreign}', '{foreign, swedish}'],\n",
       " 183075: ['{documentary, social message}'],\n",
       " 62243: ['{Trippy}'],\n",
       " 265509: ['{meta}'],\n",
       " 1318: ['{horror-noir}'],\n",
       " 113447: ['{action}'],\n",
       " 134438: ['{thriller}',\n",
       "  '{illogical spaces, mind-blowing, multiverse, twilight zone}',\n",
       "  '{hunting, murder, revenge}'],\n",
       " 205609: ['{cinematography, cults, Dark, demonology, domestic horror, horror, No jump scares, original horror, Satanic, supernatural}',\n",
       "  '{atmospheric, twist ending}',\n",
       "  '{Culture clash, Funny dialogue, Subtle humor}',\n",
       "  '{Bad acting, Cheesy, Shock value}'],\n",
       " 150822: ['{plot holes, psychological, twist ending}'],\n",
       " 63786: ['{Amazon, boring, journey}'],\n",
       " 128300: ['{cringe moments}',\n",
       "  '{friendship, road movie, Road Trip, trucking}',\n",
       "  '{friendship, robot}',\n",
       "  '{fight scenes, violence}'],\n",
       " 210736: ['{visually appealing}',\n",
       "  '{dark comedy, quirky}',\n",
       "  '{Amazing Cinematography, futuristic}',\n",
       "  '{bad script, visual effects}',\n",
       "  '{mockumentary, quirky}',\n",
       "  '{black comedy, dark comedy}',\n",
       "  '{quirky, visually appealing}',\n",
       "  '{dark comedy}',\n",
       "  '{dark comedy, stupid criminals}',\n",
       "  '{atmospheric, enigmatic, surreal}',\n",
       "  '{dark comedy, mindfuck, surreal}',\n",
       "  '{atmospheric, dreamlike, mindfuck, surreal}',\n",
       "  '{independent film, quirky}',\n",
       "  '{Atmospheric, suspense, twist ending}',\n",
       "  '{Atmospheric, disturbing}',\n",
       "  '{atmospheric, creepy, dreamlike, surreal}',\n",
       "  '{Atmospheric, dreamlike, surreal}',\n",
       "  '{atmospheric, creepy}',\n",
       "  '{atmospheric}',\n",
       "  '{atmospheric, Tilda Swinton, visually stunning}',\n",
       "  '{atmospheric, space, visually appealing}',\n",
       "  '{space}',\n",
       "  '{inspirational, sci-fi}',\n",
       "  '{atmospheric, realistic, suspense}',\n",
       "  '{atmospheric, suspense, tension}',\n",
       "  '{atmospheric, dark comedy}',\n",
       "  '{beautifully filmed}',\n",
       "  '{cinematography}',\n",
       "  '{Space, Visually stunning}',\n",
       "  '{atmospheric, dystopian, interesting concept, sci-fi, visually appealing}',\n",
       "  '{atmospheric, bad science, dialogue, space}',\n",
       "  '{Alien, predictable, space}',\n",
       "  '{space, visually stunning}',\n",
       "  '{alien, atmospheric, suspense}',\n",
       "  '{aliens, suspense}',\n",
       "  '{intelligent sci-fi}',\n",
       "  '{atmospheric, dystopia, thought-provoking}',\n",
       "  '{atmospheric, dreamlike, dystopia, film noir, futuristic, neo-noir}',\n",
       "  '{beautiful, dystopia}',\n",
       "  '{Future, thought provoking}',\n",
       "  '{dystopia, plot twist, Sci-fi, thought-provoking}',\n",
       "  '{sci-fi, thought-provoking, visually appealing}',\n",
       "  '{Space}',\n",
       "  '{Mystery, neo-noir, twist ending}',\n",
       "  '{mystery, thought-provoking, twist ending}',\n",
       "  '{atmospheric, mystery, twist ending}',\n",
       "  '{beautiful visuals, plot twist, thought-provoking, visually appealing}',\n",
       "  '{dreamlike, surreal, visually appealing}',\n",
       "  '{atmospheric, dystopia, Futuristic, thought-provoking}',\n",
       "  '{atmospheric, dystopia, futuristic, neo-noir}',\n",
       "  '{atmospheric}'],\n",
       " 128830: ['{Slow}'],\n",
       " 153921: ['{Bad Acting}'],\n",
       " 185666: ['{based on a true story, Boring, historical, survival, war}'],\n",
       " 25928: ['{aging, music}',\n",
       "  '{giallo, occult}',\n",
       "  '{espionage, virus}',\n",
       "  '{noir}',\n",
       "  '{concert}'],\n",
       " 26441: ['{Agatha Christie, Hercule Poirot}', '{teenager}'],\n",
       " 165704: ['{anime, comedy, gintama, remaster}',\n",
       "  '{atmospheric, insomnia, thought-provoking}',\n",
       "  '{alan rickman, harry potter, humorous, Magic}',\n",
       "  '{amazing artwork, anime, sci-fi}',\n",
       "  '{dark, Mindfuck, nonlinear, psychology, twist ending}',\n",
       "  '{action, comic book, hugh jackman, marvel, superhero}',\n",
       "  '{black and white, Christopher Nolan, directorial debut, mindfuck, not linear, Twist Ending}',\n",
       "  '{anime, end of the world, epic, mecha, psychology}'],\n",
       " 51019: ['{Aaron Paul, Mary Elizabeth Winstead, Megan Mullally, Nick Offerman, Octavia Spencer}',\n",
       "  '{college, incoherent plot, stilted language, unfunny}',\n",
       "  '{Anthony Hopkins, Cate Blanchett, Chris Hemsworth, humor, Idris Elba, Jeff Goldblum, Karl Urban, Mark Ruffalo, Rachel House, Taika Waititi, Tessa Thompson, tom hiddleston, violent}',\n",
       "  '{British, David Bradley, drugs, Emily Mortimer, gangs, Iain Glen, Liam Cunningham, Michael Caine, murder, Sean Harris, vigilante justice}',\n",
       "  '{abuse, good acting, mental health, sexual abuse}',\n",
       "  '{comedy, Swedish}',\n",
       "  '{Angelina Jolie, Elle Fanning, Imelda Staunton, special effects}',\n",
       "  '{family, New York}',\n",
       "  '{Amman, fairytale, heroism, Jordan}',\n",
       "  '{adultery, Bill Murray, family relationships, Frances McDormand, Maine, mental illness, Richard Jenkins}'],\n",
       " 69452: ['{low humor, silly}',\n",
       "  '{bad acting, no happy ending}',\n",
       "  '{Bill Murray, boring, complex characters, intelligent, Melancholic, Scarlett Johansson}',\n",
       "  '{low humor, stupid, uncomfortable}',\n",
       "  '{absurd, low humor, sex related humorism}',\n",
       "  '{low humor, stupid}',\n",
       "  '{terrible acting}',\n",
       "  '{low humor, stupid}',\n",
       "  '{low humor}',\n",
       "  '{classic, goofy, joke after joke, low humor, Parody, quotable, Slapstick}',\n",
       "  '{adultery, bad message, moral ambiguity}',\n",
       "  '{low humor}',\n",
       "  '{low humor}',\n",
       "  '{elves, fantasy, fantasy world, high fantasy, mythology, wizards}',\n",
       "  '{fantasy world, high fantasy, mythology}',\n",
       "  '{Highly quotable, idiotic, infidelity}',\n",
       "  '{slapstick}',\n",
       "  '{Idiotic}',\n",
       "  '{bad acting, ridiculous, silly}',\n",
       "  '{low humor, nudity (topless)}',\n",
       "  '{coming out, gay, gay romance, homosexuality, lgbt, lgbtq, sexual identity, sexuality}'],\n",
       " 77133: ['{bittersweet, intelligent, philosophical, Spike Jonze}'],\n",
       " 172370: ['{action, action heroine, adventure, Alicia Vikander, archaeology, boring, dialogue, female protagonist, invincible main character, island, perfectly enjoyable, predictable, realisticish, video game adaptation}'],\n",
       " 72019: ['{Alan Turing, Benedict Cumberbatch, code breaking, computer science, Computers, cryptography, England, Enigma, history, homosexuality, informatics, intelligent, mathematicians, mathematics, World War II}',\n",
       "  '{Denzel Washington, revenge}',\n",
       "  '{Jodie Foster, survival, thriller}'],\n",
       " 22357: ['{Bechdel Test:Pass, feminism, rape}',\n",
       "  '{Annie Lennox, Tilda Swinton}',\n",
       "  '{haunted house, sequel, tarantula}',\n",
       "  '{Patricia Tallman, remake, zombies}',\n",
       "  '{James Cameron, Michael Biehn, sci-fi}',\n",
       "  '{Brandy Gold, Jane Wyatt, Patty Duke}',\n",
       "  '{nightmare, nun, Robert Englund}',\n",
       "  '{Awful...just awful, christmas, great white shark}',\n",
       "  '{black comedy, Bruce Campbell, Sam Raimi}',\n",
       "  '{Heather Langenkamp, Patricia Arquette, Robert Englund}',\n",
       "  '{Hannibal Lecter, serial killer, William Petersen}',\n",
       "  '{Crispin Glover}',\n",
       "  '{anthology}',\n",
       "  '{post-apocalyptic}',\n",
       "  '{Carrie Fisher, Ewoks, Harrison Ford}',\n",
       "  '{Antichrist, london england, Ruby Wax}',\n",
       "  '{bruce campbell, dark humor, rape, Sam Raimi}',\n",
       "  '{torrential downpour}',\n",
       "  '{Carrie Fisher, Harrison Ford, sci-fi}',\n",
       "  '{aretha franklin, Carrie Fisher, great soundtrack}',\n",
       "  '{Bechdel Test:Fail, Harrison Ford, Martin Sheen}',\n",
       "  '{anti-christ, Lance Henriksen, Leo McKern}',\n",
       "  '{Derek Jacobi, london england, telekinesis}',\n",
       "  '{Fran Drescher, witchcraft}'],\n",
       " 173399: ['{social commentary}'],\n",
       " 47960: ['{airplane, Becky Ann Baker, Bill Paxton, Billy Bob Thornton, Brent Briscoe, Bridget Fonda, brother-brother relationship, Chelcie Ross, crime gone awry, Director: Sam Raimi, downward spiral, friendship, Gary Cole, great acting, greed, hillbillies, loneliness, money, murder, Oscar Nominee: Adapted Screenplay, parenthood, plane crash, Sam Raimi, sibling relationship, small town, soundtrack: Danny Elfman, Tragedy, trust, Writer: Scott B. Smith}',\n",
       "  '{1970s, 1980s, 70s, bad ending, black comedy, Burt Reynolds, custody battle, dark comedy, drugs, ensemble cast, full frontal nudity, Heather Graham, homosexuality, John C. Reilly, Julianne Moore, Mark Wahlberg, multiple storylines, Nudity (Full Frontal - Notable), Nudity (Full Frontal), Nudity (Topless - Notable), P.T. Anderson, Paul Thomas Anderson, period piece, Philip Seymour Hoffman, porn actor, porn industry, Porno Industry, pornography, Pornography Industry, sex, too long, USA}',\n",
       "  '{black hole, bloody, boring, cosmic horror, cryogenics, derelict ship, Disaster, distorted reality, distress signal, evil spirit, hallucination, hell, horror, Insanity, jump scares, Laurence Fishburne, mediocre, nudity, Nudity (Topless), Paul W.S. Anderson, religion, rescue team, Sam Neill, sci-fi, space, space travel, spaceflight, spaceship, Supernatural, supernatural powers, trapped in space, violence, violent, wormhole}',\n",
       "  '{assassination, audio tape, bare breasts, Brian De Palma, conspiracy, corruption, female frontal nudity, female nudity, filmmaking, hitman, media manipulation, noises, Pennsylvania, Philadelphia, political corruption, politics, presidential election, prostitute, screaming, sound engineer, sounds, steadicam, train station, Urban Setting}'],\n",
       " 270169: ['{road trip}', '{time travel}'],\n",
       " 230755: ['{Background Music, based on a book, Hannibal Lecter, serial killer, visually appealing}',\n",
       "  '{Predictable and unoriginal.}',\n",
       "  '{atmospheric, David Lynch, Dennis Hopper, disturbing, femme fatale, neo-noir, quirky, weird}',\n",
       "  '{film noir, neo noir, neo-noir, Nicolas Cage}',\n",
       "  '{casino, Nicolas Cage}',\n",
       "  '{Black Comedy, Danny DeVito, dark comedy, Edward Norton}',\n",
       "  '{Northern Ireland, war}'],\n",
       " 28004: ['{African-American, race, sexism}'],\n",
       " 246629: ['{based on play or musical, Frank Oz, musical, puppetry}',\n",
       "  '{mystery, narrator, snow, Western, Wyoming}'],\n",
       " 275304: ['{sad}',\n",
       "  '{cannibalism, crime, disturbing, Horror, mental illness, psychological, psychological thriller, psychology, psychothriller, scary, serial killer, suspense, thriller}',\n",
       "  '{based on a true story, catastrophe, disaster, drama, historical, love story, music, realistic, romance, romantic, sentimental, true story}',\n",
       "  '{horror, mystery, paranormal, scary}',\n",
       "  '{surprise ending, twist ending}',\n",
       "  '{mystery, thriller, twist ending, unpredictable}'],\n",
       " 27501: ['{Program}'],\n",
       " 196466: ['{screwball comedy}'],\n",
       " 212343: ['{Canadian, child abuse, coma}'],\n",
       " 49016: ['{Seth Rogen}',\n",
       "  '{sweet, unconventional}',\n",
       "  '{complex, plotting}',\n",
       "  '{Over-The-Top Violence, Samara Weaving, Satire}',\n",
       "  '{female lead, Groundhog Day, time loop}',\n",
       "  '{clever, dark comedy, horror comedy, meta}',\n",
       "  '{great dialogue, juxtaposition, quotable, whimsical}',\n",
       "  '{evil, horror comedy, over the top, ridiculous, Samara Weaving, villain}',\n",
       "  '{musical, predictable}',\n",
       "  '{Awful story, music, musical, romance, unnecessary villain}',\n",
       "  '{drama, emotional, heavy themes, not disney, sad ending, story}',\n",
       "  '{absurd}',\n",
       "  '{cinematography, odd sense of humor, ridiculous, visually appealing, Willem Dafoe}',\n",
       "  '{artistic, Edgar Wright, Mary Elizabeth Winstead, stylized, visually appealing}',\n",
       "  '{political}',\n",
       "  '{Dark Comedy, friendship, great cast, metafilm, Sam Rockwell}',\n",
       "  '{Robert Downey Jr., satire, val kilmer}',\n",
       "  '{cynical, ensemble cast, Great dialogue, multiple storylines}',\n",
       "  '{Multiple Personality Disorder}',\n",
       "  '{multiple personalities, serial killer}',\n",
       "  '{mystery, puzzle, Surreal, time loop, twist ending}',\n",
       "  '{Badass}',\n",
       "  '{Good remake}',\n",
       "  '{dystopia, ensemble cast, Nathan Fillion, witty}',\n",
       "  '{Josh Hartnett, snow}',\n",
       "  '{anti-war, giant monster}',\n",
       "  '{monster, sci-fi, suspense}',\n",
       "  '{Alan Rickman, humorous}',\n",
       "  '{multiple storylines}',\n",
       "  '{absurd, Alan Tudyk, dark comedy, funny, horror comedy, parody, satire}',\n",
       "  '{Christopher Nolan, dreamlike, exposition, pseudo intellectual}',\n",
       "  '{Christopher Nolan}',\n",
       "  '{Campy, zombies}',\n",
       "  '{dark humor, satire}',\n",
       "  '{black comedy, british comedy, buddy movie, dark comedy, macabre, Simon Pegg}',\n",
       "  '{moral dilemma}',\n",
       "  '{Akira Kurosawa, atmospheric, masterpiece, toshiro mifune}',\n",
       "  '{Arnold Schwarzenegger, survival}',\n",
       "  '{sci-fi}',\n",
       "  '{better than the american version, excellent script, good soundtrack}',\n",
       "  '{sci-fi, suspense, visceral}',\n",
       "  '{John Carpenter, paranoia}'],\n",
       " 54137: ['{alicia witt, christmas, hallmark}', '{teenager}'],\n",
       " 101754: ['{allegorical, cult, Dark, Disturbing, Horror, Surreal}'],\n",
       " 274819: ['{gadgets, plot twists}',\n",
       "  '{funny}',\n",
       "  '{comedy, fun, romantic action}',\n",
       "  '{aging, bad ass female lead, CIA comedy, comedy, funny, retirees}',\n",
       "  '{funny}',\n",
       "  '{funny, humour, laughable, Parody, spy gadgets}'],\n",
       " 11655: ['{19th century, based on a book, conspiracy, femme fatale, fencing, honor, Madrid, premonition, republicanism, Spain, treason}'],\n",
       " 57225: ['{coming of age}'],\n",
       " 133004: ['{emotional, Family}'],\n",
       " 80781: ['{british intelligence, MI7, rowan atkinson, spy}'],\n",
       " 195986: ['{interesting, interesting idea, original, social commentary}'],\n",
       " 168853: ['{disconnected}', '{Kim Ki-duk}'],\n",
       " 243095: ['{blasphemous, foul language, good stunts, group of friends}',\n",
       "  '{80s video games, action, adventure, avatars, cinematography, dystopia, Easter Egg, future, Future dystopia, Good soundtrack, movie references, nostalgia, Pop culture, predictable, romance, video game, video games, virtual reality, Visually appealing}',\n",
       "  '{documentary, nutrition, vitamins}',\n",
       "  '{dogs, funny, kids, pets, police dog, undercover}',\n",
       "  '{animation, foul language, kids, robot, swearing}'],\n",
       " 157079: ['{great cinematography}',\n",
       "  '{education}',\n",
       "  '{social commentary}',\n",
       "  '{education, inspirational}',\n",
       "  '{touching}',\n",
       "  '{true story}',\n",
       "  '{based on a true story, bittersweet, inspirational, Motivation, tearjerking}'],\n",
       " 192407: ['{Africa, corruption, Jennifer Connelly, justice, Leonardo DiCaprio}',\n",
       "  '{emma thompson, Maggie Gyllenhaal, modern fantasy, romance, surreal, Will Ferrell}'],\n",
       " 250263: ['{cyberpunk, future, robots, sci-fi}'],\n",
       " 167835: ['{aliens, apocalypse, bad physics, cornfield, deaf, deafness, dystopian, Emily Blunt, extraterrestrial invaders, family, farmhouse, fireworks, horror, John Krasinski, marriage, modern silent film, monster horror, monsters, mysterious creature, original, parenting, plot holes, post-apocalyptic, pregnancy, psychological horror, sign language, silence, sound, survival, suspense, tension, thriller, visual}',\n",
       "  '{acting, action, adventure, aliens, anti hero, bad editing, bad writing, chewbacca, childish, cinematography, crime, family movie, futuristic, heist, origin story, plot, Predictable, prequel, robots, sci-fi, silly plot, smuggler, space, space opera, spaceship, spin off, star wars, story, war, weak plot}',\n",
       "  '{activism, africa, documentary, enviromentalism, trade, traffic, wildlife}',\n",
       "  '{conservation, corrupt government, courageous, documentary, emotional, environmentalism, gorillas, gut-wrenching story, journalist, masterpiece, neoliberalism, park rangers, refugees, strong message, tense, thought provoking, very emotional true story. very eye opening.}'],\n",
       " 230812: ['{Action, car chase, Franchise, Henry Cavill, Literal Cliffhanger, London, Mission Impossible, motorcycle chase, Rebecca Ferguson, sequel, Spy, Thriller, Tom Cruise}',\n",
       "  '{action, comic book, Marvel, vampire, vampires, Wesley Snipes}',\n",
       "  '{gangster, mob}',\n",
       "  '{assassin, Margot Robbie, Mission, Revenge, twisty ending}'],\n",
       " 112029: ['{has a sequel}'],\n",
       " 239007: ['{predictable}'],\n",
       " 234914: ['{adultery, alternate reality, coming of age, Reese Witherspoon, stylized, surreal}',\n",
       "  '{white washing}',\n",
       "  '{based on a true story, India, world politics}',\n",
       "  '{political}',\n",
       "  '{Alicia Vikander, boring, predictable, treasure hunt}',\n",
       "  '{cliche, dinosaurs, Experiment Gone Awry, genetic engineering, humor, predictable, sequel}',\n",
       "  '{Convenient Plot, Strong Female Lead, visually creative}',\n",
       "  '{absurd, atmospheric, cold war, fairy tale}',\n",
       "  '{bonding, Dwayne Johnson, easter eggs, girl power, Jack Black, Kevin Hart}',\n",
       "  '{thriller, well constructed}',\n",
       "  '{anime, musical, Swan Lake}',\n",
       "  '{classic}',\n",
       "  '{atlantis, James Wan, Jason Momoa, superhero}',\n",
       "  '{1970s, Patrick Wilson, supernatural, tense, Vera Farmiga}',\n",
       "  '{boring, disappointing, imagery}',\n",
       "  '{dumb, over the top}',\n",
       "  '{dumb, female antagonist}',\n",
       "  '{shark-attacks}',\n",
       "  '{Abortion, body horror, creepy, David Cronenberg, gruesome, Jeff Goldblum, mad scientist, tragic hero}',\n",
       "  '{certified fresh, romantic comedy}',\n",
       "  '{giant monster, jump scares, predictable, shark}'],\n",
       " 215971: ['{Netflix}'],\n",
       " 201122: ['{based on a true story, Texas Holdem}'],\n",
       " 85923: ['{antihero, superhero}'],\n",
       " 267180: ['{dark, surreal}',\n",
       "  '{atmospheric, notable soundtrack}',\n",
       "  '{atmospheric}'],\n",
       " 142253: ['{Art house, Documentary, Werner Herzog}'],\n",
       " 176046: ['{gay, homosexuality, offensive, Sacha Baron Cohen, social commentary, tasteless}'],\n",
       " 125359: ['{crossdressing, transgender, transphobic, transvestism}',\n",
       "  '{heist, space opera, spaceship}',\n",
       "  '{cheesy, cringe, predictable, virtual reality, Visually appealing}',\n",
       "  '{alien invasion, aliens, chase, disturbing, remake, unnerving}',\n",
       "  '{biographical, freedom of expression, Lenny Bruce, stand-up comedy}',\n",
       "  '{Bechdel Test:Pass, con artist, con artists, con man, con men, confidence trick, film noir, noir, unnerving, unusual}',\n",
       "  '{deaf, deafness, prostitution, sex trafficking, sign language, Ukraine, underage prostitution}',\n",
       "  \"{1980s, campy, cheesy, cult film, living dead, random striptease, so bad it's good, zombies}\",\n",
       "  '{false identity, identity theft, imposter, unnerving}'],\n",
       " 138669: ['{Race, Racism}'],\n",
       " 55729: ['{eyes, good acting, meaning of life, philosophy, reincarnation, science, scientific discovery, soul}',\n",
       "  '{artificial intelligence, bad writing, cyberpunk, future, sci-fi}'],\n",
       " 264115: ['{John Cho, thriller, well constructed}'],\n",
       " 125365: ['{funny, imaginative}'],\n",
       " 99258: ['{cinderella}', '{adventure, archaeology, egypt, mummy}'],\n",
       " 246718: ['{18th century, 19th century, Alan Rickman, Ang Lee, author:Jane Austen, based on a book, Britain, British, classic literature, costume drama, Emma Thompson, Hugh Grant, Jane Austen, Kate Winslet, Period, period drama, period film, Regency England, romantic}'],\n",
       " 188863: ['{1930s, automata, Ben Kingsley, cinema history, clockwork devices, fantasy, France, inventor, Martin Scorsese, movie business, orphans, Paris, Sacha Baron Cohen, train station}'],\n",
       " 449: ['{John Cusack, Matthew McConaughey, Zac Efron}',\n",
       "  '{inferior sequel}',\n",
       "  '{dark comedy, Kristen Wiig, quirky}'],\n",
       " 90050: ['{good acting}',\n",
       "  '{Brit Marling, cinematography, loner, melancholic, visually appealing}'],\n",
       " 67010: ['{beautifully filmed, existentialism}'],\n",
       " 121284: ['{Artistic visuals, feminist, male gaze, politically progressive, rape attempt, transgender character, transgender positive, violent}',\n",
       "  '{cynical, Dark, disturbing, Dystopia, jon hamm, not a movie, thought provoking}'],\n",
       " 48067: ['{Emil Jannings, Josef von Sternberg, Marlene Dietrich}',\n",
       "  '{far fetched, film noir, noir thriller, plot holes}',\n",
       "  '{Diane Lane, friendship, romance, scenic, Strong Women, Tuscany}',\n",
       "  '{Barbara Barrie, mixed race marriage, prejudice, racism}',\n",
       "  '{Angela Lansbury, animation, music, Russian revolution}'],\n",
       " 100294: ['{Adrien Brody, affair, based on a book, blackmail, blasphemous, Campbell Scott, Colin Harrison, crime, death, foul language, investigation, Jennifer Beals, journalism, manhattan, new york city, murder investigation, neo-noir, newspaper man, secret camera, suspense, tabloid, temptation, video camera, wife husband relationship, Yvonne Strahovski}',\n",
       "  '{adapted from:book, author:John Bellairs, bad adaptation, Cate Blanchett, Evil Pumpkins, Hallowen, jack black, missed, warlock}',\n",
       "  '{acting, action, adventure, aliens, chewbacca, cinematography, crime, Donald Glover, Emilia Clarke, fantasy, futuristic, hans solo, heist, love story, origin story, plot, Predictable, prequel, robots, Ron Howard, sci-fi, score, smuggler, social justice, space, space fantasy, space opera, spaceship, spin off, star wars, story, Woody Harrelson}',\n",
       "  '{comedy, silly}',\n",
       "  '{animation, cartoon, caveman, cavemen, claymation, dinosaurs, funny, stone age, Stop Motion, underdogs}',\n",
       "  '{arm-implanted guns, artificial intelligence, autonomous house, autonomous vehicle, bad writing, body enhancement, cyberpunk, cyborg, dull characters, dystopia, electronic score, future, gore, Great Camera Angles, hand-to-hand combat, implant, implanted gun, Leigh Whannell, Logan Marshall-Green, near future, revenge, self-driving cars, STEM, Stylized Action, suicide, twist}'],\n",
       " 104899: ['{childhood, curse, Disney, funny, halloween, magic, supernatural, virgin, witches}',\n",
       "  '{parody, spoof}',\n",
       "  '{angry, black and white, bleak, cynical, french, ghetto, gritty, paris, racism, realistic, social commentary}',\n",
       "  '{18th century, british, classic, England, Feel-good, Happy ending, Keira Knightley, Period Drama, relationships, romance}',\n",
       "  '{90s cynicisim, Amorality, misogyny, sexism}',\n",
       "  '{dark comedy, revenge}',\n",
       "  '{Bruce Willis, Dark Comedy, Meryl Streep}',\n",
       "  '{black and white, bleak, classic, holocaust, Liam Neeson, literary adaptation, long, Nazis, Oscar (Best Picture), Steven Spielberg, thought-provoking, World War II, WWII}',\n",
       "  '{Africa, based on a true story, depressing, ethnic conflict, genocide, history, journalism, racism, survival, Tragedy, true story, violence, war}',\n",
       "  '{Alabama, civil rights, history, police brutality, racism}',\n",
       "  '{Denzel Washington, racism, true story}',\n",
       "  '{thought provoking}',\n",
       "  '{football, inspirational, sports, Underdog}',\n",
       "  '{action, buddy, comedy, Mel Gibson, police}',\n",
       "  '{Documentary, sports}',\n",
       "  '{Anthony Hopkins, Emma Thompson, period piece}',\n",
       "  '{Arnold Schwarzenegger, pregnant man}',\n",
       "  '{inspirational}',\n",
       "  '{detective, femme fatale, murder, suspense, thriller}',\n",
       "  '{based on a book, performances}'],\n",
       " 230857: ['{Bad acting}'],\n",
       " 158665: ['{Dark Comedy}'],\n",
       " 244683: ['{horror}', '{1980s, Horror}'],\n",
       " 275402: ['{Al Pacino}',\n",
       "  '{atmospheric, grief, surreal, trauma}',\n",
       "  '{anthology, horror, horror anthology}'],\n",
       " 247757: ['{disappointing}'],\n",
       " 19924: ['{nonsense}'],\n",
       " 127449: ['{black&white, music}'],\n",
       " 87515: ['{plot twists}', '{high school, quotable, teen}', '{detective}'],\n",
       " 196060: [\"{documentary, freedom of expression, gender, human rights, masculinity, men's rights, Men's rights movement, social commentary}\",\n",
       "  '{Benicio del Toro, cartel, cia, drugs, Josh Brolin, mexican cartel, Mexico, sequel}',\n",
       "  '{genocide, Lauren Southern, racism}'],\n",
       " 168923: ['{Bruce Willis, humorous}'],\n",
       " 41954: ['{twisted ending, unrealistic}',\n",
       "  '{Predictable, sci-fi, star wars}',\n",
       "  '{atmospheric, crime, twist ending}'],\n",
       " 72675: ['{Stephen King, werewolf}',\n",
       "  '{author:Stephen King, classic car, Director: John Carpenter, horror, John Carpenter, Soundtrack: John Carpenter, stephen king, Writer: Stephen King}',\n",
       "  '{demon, demons, Halloween, horror, monster, possession}',\n",
       "  '{character:Jason Vorhees, Friday the 13th franchise, series of murders, slasher, subgenre:slasher, twist ending}',\n",
       "  '{campy, extreme violence, horror, maniac, psycho killer, slasher, summer camp, teen slasher, woods}',\n",
       "  '{Creature Feature, eugenics, mutant, piranha, satire}',\n",
       "  '{campy}',\n",
       "  '{campy}',\n",
       "  '{character:Michael Myers, franchise, halloween, Horror, Michael Myers, serial killer, sheriff, slasher, suspense}',\n",
       "  '{atmospheric, bdsm, body horror, creepy, hallucinations}',\n",
       "  '{character:Jason Vorhees, Friday the 13th franchise, Jason Vorhees, serial killer, slasher, subgenre:slasher}',\n",
       "  '{water monster}',\n",
       "  '{80s video, panther, weird}',\n",
       "  '{action, fight scenes, jackie chan, revenge}'],\n",
       " 155618: ['{bittersweet, burglary, Christianity, comedy, coping, crime, criminals, dark comedy, drama, female driven, Gory, home invasion, neighborhood, nurse, rowing, satire, V18, vigilante}',\n",
       "  '{acting, cinematography, cults, demonology, directorial debut, domestic horror, family, Gabriel Byrne, grief, horror, matriarch, mystery, original horror, pacing, supernatural, Toni Collette, writing}'],\n",
       " 95717: ['{commune, diabetic, drama, environmentalism, incest}',\n",
       "  '{amateur detective, Based on a cartoon, Based on a TV show, comedy, friendship, mystery}',\n",
       "  '{cheesy, chick flick, romantic comedy}',\n",
       "  '{animation, cartoonist, comic book, live action/animation, seduction}',\n",
       "  '{assassination attempt, bromance, buddy movie, comedy, crude, Dictatorship, North Korea, overacting, satire}',\n",
       "  '{comedy, romance, Sports, tennis}',\n",
       "  '{Africa, based on a true story, dictatorship, Doctor, genocide, History, Uganda, violent}',\n",
       "  '{adultery, affair, based on a book, Iowa, romance, sentimental}',\n",
       "  '{comedy, romantic, suicide}',\n",
       "  '{Aging, bittersweet, drama, emotional, life & death, long, Oscar (Best Effects - Visual Effects), Oscar Nominee: Best Picture, philosophical, romance, sad, touching}',\n",
       "  '{bloody, bounty hunter, Civil War, ensemble cast, gore, History, humor, one-room, Oscar winner, plot twist, tension building, violence, violent, Western}',\n",
       "  '{black and white, classic, comedy, high society, new york, romance, sibling relationship}',\n",
       "  '{based on a play, comedy, love, love story, Paris, romance, sibling relationship, ugly duckling}',\n",
       "  '{cults, demonology, family, grief, horror, matriarch, seance, supernatural, thriller}',\n",
       "  '{drama, independent film, romance, sexual desire}',\n",
       "  '{high school, love, Romance}',\n",
       "  '{Adventure, anime, coming of age, family, fantasy, magic, strong female lead, Studio Ghibli, talking animals, witch, witchcraft}',\n",
       "  '{adventure, anime, anti-war, dystopic future, ecology, environmental, fantasy, Japan, post-apocalyptic, sci-fi, steampunk, strong female lead, Studio Ghibli}',\n",
       "  '{adventure, anime, aviation, fantasy, imagination, Japan, pirates, robots, steampunk, Studio Ghibli}',\n",
       "  '{adventure, alternate reality, animation, anime, beautiful, Bechdel Test:Pass, childhood, children, coming of age, dragons, drama, fantasy, fantasy world, heroine, imagination, imdb top 250, Japan, Japanese, magic, metaphorical, Oscar (Best Animated Feature), parallel world, spirits, spiritual, strong female lead, Studio Ghibli, whimsical, witches}',\n",
       "  '{1980s, action, dystopia, evil government, future, lone hero, New York City, sci-fi}',\n",
       "  '{animation}',\n",
       "  '{Based on a TV show, comedy, witch}',\n",
       "  '{action, alter ego, based on a comic, batman, imdb top 250, super hero, super-hero, superhero, vigilante}',\n",
       "  '{lottery}',\n",
       "  '{action, alien invasion, aliens, based on a book, boarding school, bullying, child warrior, deception, genocide, militarism, military, sci-fi, space, special effects, twist ending, war}',\n",
       "  '{Cleopatra, drama, epic, history, Oscar (Best Cinematography), romance}',\n",
       "  '{based on a book, crime, drama, grief, high school, investigation, murder, Mystery}',\n",
       "  '{animation, chess, Pixar, short, short film}',\n",
       "  '{animation, Pixar, short, short film}',\n",
       "  '{Pixar, short, short film}',\n",
       "  '{based on a book, intersex, mindfuck, paradox, predictable, sci-fi, thriller, time loop, time machine, time travel, twist, twist ending}',\n",
       "  '{love story, noir, paradox, parallel universes, romance, sci-fi, time loop, time travel}',\n",
       "  '{future, mindfuck, sci-fi, thriller, time travel, twist ending, twists, unexpected ending, unique story}',\n",
       "  '{betrayal, conspiracy, drama, dystopia, Dystopian, false identity, Future, overpopulation, population control, sci-fi, septuplets, thriller}',\n",
       "  '{cowboy, gunslinger, redemption, shoot out, western}',\n",
       "  '{based on a book, bullying, Coming of Age, coming out, Friendship, gay, high school, homosexuality, lgbt, lgbtq, sexual identity, sexuality, soundtrack, teenager, Touching}',\n",
       "  '{based on a book, body switch, drama, romance, sci-fi, soundtrack}',\n",
       "  '{action, adventure, aftercreditsstinger, dinosaurs, disaster, franchise, genetic engineering, tyrannosaurus rex, volcano}'],\n",
       " 81903: ['{dystopia, Ethan Hawke, Jude Law, neo-noir, sci-fi, Uma Thurman}',\n",
       "  '{allegorical, Darren Aronofsky, Jennifer Lawrence}',\n",
       "  '{halloween, kidnapping, nicolas cage}',\n",
       "  '{butterflies, death of a child, dreams, foster parents}',\n",
       "  '{atmospheric, horror, lost in the woods, norse mythology, Sweden}'],\n",
       " 252912: ['{british, Emilia Clarke, love, romance, romantic drama}',\n",
       "  '{entertaining, Ryan Reynolds, Salma Hayek, Samuel L. Jackson, Witty}'],\n",
       " 50678: ['{Cate Blanchett, Robin Hood, Russell Crowe}',\n",
       "  '{high-altitude parachute jump, Mission Impossible, Simon Pegg, Spy, Tom Cruise}',\n",
       "  '{action, Bruce Willis, Clever, humorous, lone hero, One Man Army}',\n",
       "  '{action, bruce willis, unrealistic but well done}'],\n",
       " 28665: ['{tivo18}', '{tivo18}', '{tivo18}', '{tivo18}']}"
      ]
     },
     "execution_count": 15,
     "metadata": {},
     "output_type": "execute_result"
    }
   ],
   "source": [
    "user_tag_noNAN"
   ]
  },
  {
   "cell_type": "code",
   "execution_count": 16,
   "metadata": {},
   "outputs": [],
   "source": [
    "tags = list(df_half2[df_half2['userId']==29184]['tag_combined'])[0][1:-1]\n",
    "tags2 = [i for i in tags.split(', ')]"
   ]
  },
  {
   "cell_type": "code",
   "execution_count": 17,
   "metadata": {},
   "outputs": [
    {
     "data": {
      "text/plain": [
       "['bittersweet', 'education', 'friendship', 'inspirational']"
      ]
     },
     "execution_count": 17,
     "metadata": {},
     "output_type": "execute_result"
    }
   ],
   "source": [
    "tags2"
   ]
  },
  {
   "cell_type": "code",
   "execution_count": 18,
   "metadata": {},
   "outputs": [],
   "source": [
    "user_tag_clean = {}\n",
    "stopwords_list = stopwords.words(\"english\")\n",
    "\n",
    "for user in user_tag_noNAN:\n",
    "    user_tag_clean[user]=[]\n",
    "    for tags in user_tag_noNAN[user]:\n",
    "        tags = tags[1:-1] # remove '{' and '}'\n",
    "        tags = [i for i in tags.split(', ')]\n",
    "        \n",
    "        for tag in tags:\n",
    "            tag = [j for j in tag.split(' ')]\n",
    "            tag = [j.lower() for j in tag]\n",
    "            tag = [j.replace('-','') for j in tag]\n",
    "            tag = [j for j in tag if j not in stopwords_list]\n",
    "            user_tag_clean[user]+= tag\n",
    "            "
   ]
  },
  {
   "cell_type": "code",
   "execution_count": 121,
   "metadata": {},
   "outputs": [],
   "source": [
    "user_sentiment = {}\n",
    "\n",
    "for user, tags in user_tag_clean.items():\n",
    "    user_sentiment[user] = cal_sentiment(tags)"
   ]
  },
  {
   "cell_type": "code",
   "execution_count": null,
   "metadata": {},
   "outputs": [],
   "source": []
  },
  {
   "cell_type": "code",
   "execution_count": 21,
   "metadata": {},
   "outputs": [
    {
     "data": {
      "text/plain": [
       "['atmospheric', 'minimalist']"
      ]
     },
     "execution_count": 21,
     "metadata": {},
     "output_type": "execute_result"
    }
   ],
   "source": [
    "user_tag_clean[17633]"
   ]
  },
  {
   "cell_type": "code",
   "execution_count": 22,
   "metadata": {},
   "outputs": [],
   "source": [
    "user_tag_count = {}\n",
    "for user in user_tag_noNAN:\n",
    "    \n",
    "    count = 0\n",
    "       \n",
    "    for tags in user_tag_noNAN[user]:\n",
    "        tags = tags[1:-1] # remove '{' and '}'\n",
    "        tags = [i for i in tags.split(', ')]\n",
    "        \n",
    "\n",
    "        for tag in tags:\n",
    "            count += 1 \n",
    "    user_tag_count[user] = count"
   ]
  },
  {
   "cell_type": "code",
   "execution_count": 23,
   "metadata": {},
   "outputs": [],
   "source": [
    "#user_tag_count"
   ]
  },
  {
   "cell_type": "code",
   "execution_count": 48,
   "metadata": {},
   "outputs": [
    {
     "data": {
      "image/png": "[encoded data removed]",
      "text/plain": [
       "<Figure size 432x288 with 1 Axes>"
      ]
     },
     "metadata": {
      "needs_background": "light"
     },
     "output_type": "display_data"
    }
   ],
   "source": [
    "for user in user_sentiment:\n",
    "    plt.scatter(user_tag_count[user], user_sentiment[user],s=10)\n",
    "#plt.title(\"Sentiment score VS Number of Tags\")\n",
    "plt.xlabel ('Total Number of Tags given by an user')\n",
    "plt.ylabel ('Overall Sentiment Scores')\n",
    "plt.show()"
   ]
  },
  {
   "cell_type": "markdown",
   "metadata": {},
   "source": [
    "In general, there isn't a pattern showing any relationship between the sentiment score and number of tags that a user gives. However, we can see that the majority of the users give less than 50 tags, and the tags tend to be positive or neutral. "
   ]
  },
  {
   "cell_type": "code",
   "execution_count": 40,
   "metadata": {},
   "outputs": [],
   "source": [
    "user_rating = df_half.groupby(['userId']).mean()['rating_combined']"
   ]
  },
  {
   "cell_type": "code",
   "execution_count": 49,
   "metadata": {},
   "outputs": [
    {
     "data": {
      "image/png": "[encoded data removed]",
      "text/plain": [
       "<Figure size 432x288 with 1 Axes>"
      ]
     },
     "metadata": {
      "needs_background": "light"
     },
     "output_type": "display_data"
    }
   ],
   "source": [
    "for user in user_sentiment:\n",
    "    plt.scatter(user_rating[user], user_sentiment[user], s=10)\n",
    "#plt.title(\"Sentiment score VS Number of Tags\")\n",
    "plt.xlabel ('Average Rating that a user has given')\n",
    "plt.ylabel ('Overall Sentiment Scores')\n",
    "plt.show()"
   ]
  },
  {
   "cell_type": "markdown",
   "metadata": {},
   "source": [
    "describe scatter above "
   ]
  },
  {
   "cell_type": "code",
   "execution_count": 25,
   "metadata": {},
   "outputs": [],
   "source": [
    "all_tags = []\n",
    "for user in user_tag_clean:\n",
    "    for tag in user_tag_clean[user]:\n",
    "        all_tags.append(tag)"
   ]
  },
  {
   "cell_type": "code",
   "execution_count": 26,
   "metadata": {},
   "outputs": [],
   "source": [
    "tag_count = dict(Counter(all_tags))"
   ]
  },
  {
   "cell_type": "code",
   "execution_count": 27,
   "metadata": {},
   "outputs": [
    {
     "data": {
      "text/plain": [
       "'comedy'"
      ]
     },
     "execution_count": 27,
     "metadata": {},
     "output_type": "execute_result"
    }
   ],
   "source": [
    "max(tag_count.items(), key=operator.itemgetter(1))[0]"
   ]
  },
  {
   "cell_type": "code",
   "execution_count": 28,
   "metadata": {},
   "outputs": [
    {
     "data": {
      "text/plain": [
       "['comedy',\n",
       " 'atmospheric',\n",
       " 'dark',\n",
       " 'horror',\n",
       " 'based',\n",
       " 'scifi',\n",
       " 'ending',\n",
       " 'story',\n",
       " 'twist',\n",
       " 'bad',\n",
       " 'plot',\n",
       " 'visually',\n",
       " 'romance',\n",
       " 'book',\n",
       " 'action',\n",
       " 'space',\n",
       " 'great',\n",
       " 'film',\n",
       " 'war',\n",
       " 'nudity',\n",
       " 'appealing',\n",
       " 'predictable',\n",
       " 'true',\n",
       " 'acting',\n",
       " 'drama',\n",
       " 'dystopia',\n",
       " 'friendship',\n",
       " 'thriller',\n",
       " 'funny',\n",
       " 'humor']"
      ]
     },
     "execution_count": 28,
     "metadata": {},
     "output_type": "execute_result"
    }
   ],
   "source": [
    "sorted(tag_count, key=tag_count.get, reverse=True)[:30]"
   ]
  },
  {
   "cell_type": "markdown",
   "metadata": {},
   "source": [
    "By examine the most frequent tags given by users, we can see that users tend to give tags of genre and theme of the movies they watch. They tends to be neutral. "
   ]
  },
  {
   "cell_type": "code",
   "execution_count": 30,
   "metadata": {},
   "outputs": [],
   "source": [
    "count_of_reviews = df_half.groupby('userId').size()\n",
    "# Due to the nature of our dataset, we are using Undirected graph\n",
    "g = nx.Graph()\n",
    "\n",
    "# Adding each unique users as nodes into graph\n",
    "for user, count in count_of_reviews.items():\n",
    "    g.add_node(user, size=count)"
   ]
  },
  {
   "cell_type": "code",
   "execution_count": 31,
   "metadata": {},
   "outputs": [],
   "source": [
    "# get the common movies which users have watched \n",
    "# grouped them by the movie IDs \n",
    "condensed_movie_users = df_half.groupby('movieId')['userId'].apply(list)"
   ]
  },
  {
   "cell_type": "code",
   "execution_count": 32,
   "metadata": {},
   "outputs": [],
   "source": [
    "# get the edge weights -- number of movies which both users watched in common\n",
    "edgelist = {}\n",
    "for movie, users in condensed_movie_users.items():\n",
    "    lst = users\n",
    "    \n",
    "    for i in range(len(lst)):\n",
    "        for j in range(i+1, len(lst)):\n",
    "            if lst[i] not in edgelist.keys():\n",
    "                edgelist[lst[i]] = []\n",
    "                edgelist[lst[i]].append(lst[j])\n",
    "            else:\n",
    "                edgelist[lst[i]].append(lst[j])"
   ]
  },
  {
   "cell_type": "code",
   "execution_count": 33,
   "metadata": {},
   "outputs": [],
   "source": [
    "# add the edges \n",
    "for movie, users in condensed_movie_users.items():\n",
    "    lst = users\n",
    "    \n",
    "    for i in range(len(lst)):\n",
    "        for j in range(i+1, len(lst)):\n",
    "            weight = collections.Counter(edgelist[lst[i]])[lst[j]]\n",
    "            g.add_edge(lst[i], lst[j], weight=weight)"
   ]
  },
  {
   "cell_type": "code",
   "execution_count": 34,
   "metadata": {},
   "outputs": [],
   "source": [
    "pos = nx.spring_layout(g)"
   ]
  },
  {
   "cell_type": "markdown",
   "metadata": {},
   "source": [
    "### community detection here"
   ]
  },
  {
   "cell_type": "code",
   "execution_count": 35,
   "metadata": {},
   "outputs": [],
   "source": [
    "largest_connected_component = sorted(nx.connected_component_subgraphs(g), key = lambda x:len(x))[-1]"
   ]
  },
  {
   "cell_type": "code",
   "execution_count": 38,
   "metadata": {},
   "outputs": [],
   "source": [
    "communities_generator = community_louvain.best_partition(largest_connected_component)\n",
    "values = [communities_generator.get(node) for node in largest_connected_component.nodes()]"
   ]
  },
  {
   "cell_type": "code",
   "execution_count": 39,
   "metadata": {},
   "outputs": [
    {
     "data": {
      "image/png": "[encoded data removed]",
      "text/plain": [
       "<Figure size 720x720 with 1 Axes>"
      ]
     },
     "metadata": {
      "needs_background": "light"
     },
     "output_type": "display_data"
    }
   ],
   "source": [
    "size = float(len(set(communities_generator.values())))\n",
    "pos = nx.spring_layout(largest_connected_component)\n",
    "count = 0\n",
    "\n",
    "plt.figure(figsize=(10,10))\n",
    "\n",
    "for com in set(communities_generator.values()) :\n",
    "    count = count + 1.\n",
    "    c = \"#{:06x}\".format(random.randint(0, 0xFFFFFF))\n",
    "    color = []\n",
    "    \n",
    "    # get all the nodes belonging to a community \n",
    "    list_nodes = [nodes for nodes in communities_generator.keys()\n",
    "                                if communities_generator[nodes] == com]\n",
    "    \n",
    "    for n in list_nodes: # color generator\n",
    "        color.append(c)\n",
    "        \n",
    "    nx.draw_networkx_nodes(largest_connected_component, pos, list_nodes, node_size = 15, alpha=0.7,\n",
    "                                node_color=color)\n",
    "\n",
    "\n",
    "nx.draw_networkx_edges(largest_connected_component,pos, alpha=0.4, width=0.3)\n",
    "\n",
    "plt.show()"
   ]
  },
  {
   "cell_type": "code",
   "execution_count": 50,
   "metadata": {},
   "outputs": [],
   "source": [
    "# get the userIds that are clustered into their respective communities\n",
    "nodes_in_coms = {}\n",
    "\n",
    "for com in set(communities_generator.values()) :\n",
    "    \n",
    "    # get all the nodes belonging to a community \n",
    "    list_nodes = [nodes for nodes in communities_generator.keys()\n",
    "                                if communities_generator[nodes] == com]\n",
    "    nodes_in_coms[com] = list_nodes"
   ]
  },
  {
   "cell_type": "code",
   "execution_count": 51,
   "metadata": {},
   "outputs": [],
   "source": [
    "com1_users =  nodes_in_coms[0]\n",
    "com2_users =  nodes_in_coms[1]\n",
    "com3_users =  nodes_in_coms[2]"
   ]
  },
  {
   "cell_type": "code",
   "execution_count": 52,
   "metadata": {},
   "outputs": [],
   "source": [
    "def user_watch_movies(user_list):\n",
    "    output = {}\n",
    "    for user in user_list:\n",
    "        movies = list(df_half[df_half['userId']==user]['movieId'])\n",
    "        output[user]=movies\n",
    "    return output"
   ]
  },
  {
   "cell_type": "code",
   "execution_count": 53,
   "metadata": {},
   "outputs": [],
   "source": [
    "def user_tag_movies(user_list):\n",
    "    output = {}\n",
    "    df_half2 = df_half[pd.notnull(df_half['tag_combined'])]\n",
    "    for user in user_list:\n",
    "        movies = list(df_half2[df_half2['userId']==user]['movieId'])\n",
    "        output[user]=movies\n",
    "    return output"
   ]
  },
  {
   "cell_type": "code",
   "execution_count": 54,
   "metadata": {},
   "outputs": [],
   "source": [
    "def user_clean_tags(user_list):\n",
    "    \n",
    "    df_half2 = df_half[pd.notnull(df_half['tag_combined'])]\n",
    "    \n",
    "    user_tag_noNAN ={}\n",
    "    for user in user_list:\n",
    "        if user not in user_tag_noNAN:\n",
    "            user_tag_noNAN[user]=list(df_half2[df_half2['userId']==user]['tag_combined'])\n",
    "   \n",
    "    user_tag_clean = {}\n",
    "    stopwords_list = stopwords.words(\"english\")\n",
    "\n",
    "    for user in user_list:\n",
    "        user_tag_clean[user]=[]\n",
    "        for tags in user_tag_noNAN[user]:\n",
    "            tags = tags[1:-1] # remove '{' and '}'\n",
    "            tags = [i for i in tags.split(', ')]\n",
    "\n",
    "            for tag in tags:\n",
    "                tag = [j for j in tag.split(' ')]\n",
    "                tag = [j.lower() for j in tag]\n",
    "                tag = [j.replace('-','') for j in tag]\n",
    "                tag = [j for j in tag if j not in stopwords_list]\n",
    "                user_tag_clean[user]+= tag\n",
    "                \n",
    "    return user_tag_clean"
   ]
  },
  {
   "cell_type": "code",
   "execution_count": 55,
   "metadata": {},
   "outputs": [],
   "source": [
    "def com_sentiments(user_list):\n",
    "    x = user_clean_tags(user_list)\n",
    "    user_sentiment = {}\n",
    "    for user, tags in x.items():\n",
    "        user_sentiment[user] = round(cal_sentiment(tags)*2)/2\n",
    "        \n",
    "    return user_sentiment"
   ]
  },
  {
   "cell_type": "code",
   "execution_count": 69,
   "metadata": {},
   "outputs": [],
   "source": [
    "def sentiment_hist(sentiment_dic):\n",
    "    scores = list(sentiment_dic.values())\n",
    "    counts = Counter(scores)\n",
    "    del counts[0]\n",
    "\n",
    "    plt.bar(counts.keys(), counts.values(), width=0.2)\n",
    "    plt.xlabel('Sentiment Score')\n",
    "    plt.ylabel('Number of Users', fontsize=13)\n",
    "    plt.show()"
   ]
  },
  {
   "cell_type": "code",
   "execution_count": 82,
   "metadata": {},
   "outputs": [
    {
     "data": {
      "image/png": "[encoded data removed]",
      "text/plain": [
       "<Figure size 432x288 with 1 Axes>"
      ]
     },
     "metadata": {
      "needs_background": "light"
     },
     "output_type": "display_data"
    }
   ],
   "source": [
    "c1_scores = com_sentiments(com1_users)\n",
    "plt.title(\"Cluster 1\")\n",
    "sentiment_hist(c1_scores)"
   ]
  },
  {
   "cell_type": "code",
   "execution_count": 58,
   "metadata": {},
   "outputs": [
    {
     "data": {
      "image/png": "[encoded data removed]",
      "text/plain": [
       "<Figure size 432x288 with 1 Axes>"
      ]
     },
     "metadata": {
      "needs_background": "light"
     },
     "output_type": "display_data"
    }
   ],
   "source": [
    "c2_scores = com_sentiments(com2_users)\n",
    "plt.title(\"Cluster 2\")\n",
    "sentiment_hist(c2_scores)"
   ]
  },
  {
   "cell_type": "code",
   "execution_count": 59,
   "metadata": {},
   "outputs": [
    {
     "data": {
      "image/png": "[encoded data removed]",
      "text/plain": [
       "<Figure size 432x288 with 1 Axes>"
      ]
     },
     "metadata": {
      "needs_background": "light"
     },
     "output_type": "display_data"
    }
   ],
   "source": [
    "c3_scores = com_sentiments(com3_users)\n",
    "plt.title(\"Cluster 3\")\n",
    "sentiment_hist(c3_scores)"
   ]
  },
  {
   "cell_type": "code",
   "execution_count": 66,
   "metadata": {},
   "outputs": [],
   "source": [
    "def com_rating(user_list):\n",
    "    user_ratings = {}\n",
    "    for user in  user_list:\n",
    "        user_ratings[user] = round(user_rating[user]*2)/2\n",
    "        \n",
    "    return user_ratings"
   ]
  },
  {
   "cell_type": "code",
   "execution_count": 70,
   "metadata": {},
   "outputs": [],
   "source": [
    "def rating_hist(rating_dic):\n",
    "    ratings = list(rating_dic.values())\n",
    "    counts = Counter(ratings)\n",
    "    del counts[0]\n",
    "\n",
    "    plt.bar(counts.keys(), counts.values(), width=0.2)\n",
    "    plt.xlabel('Ratings')\n",
    "    plt.ylabel('Number of Users', fontsize=13)\n",
    "    plt.show()"
   ]
  },
  {
   "cell_type": "code",
   "execution_count": 72,
   "metadata": {},
   "outputs": [
    {
     "data": {
      "image/png": "[encoded data removed]",
      "text/plain": [
       "<Figure size 432x288 with 1 Axes>"
      ]
     },
     "metadata": {
      "needs_background": "light"
     },
     "output_type": "display_data"
    }
   ],
   "source": [
    "c1_ratings = com_rating(com1_users)\n",
    "plt.title(\"Cluster 1\")\n",
    "rating_hist(c1_ratings)"
   ]
  },
  {
   "cell_type": "code",
   "execution_count": 73,
   "metadata": {},
   "outputs": [
    {
     "data": {
      "image/png": "[encoded data removed]",
      "text/plain": [
       "<Figure size 432x288 with 1 Axes>"
      ]
     },
     "metadata": {
      "needs_background": "light"
     },
     "output_type": "display_data"
    }
   ],
   "source": [
    "c2_ratings = com_rating(com2_users)\n",
    "plt.title(\"Cluster 2\")\n",
    "rating_hist(c2_ratings)"
   ]
  },
  {
   "cell_type": "code",
   "execution_count": 74,
   "metadata": {},
   "outputs": [
    {
     "data": {
      "image/png": "[encoded data removed]",
      "text/plain": [
       "<Figure size 432x288 with 1 Axes>"
      ]
     },
     "metadata": {
      "needs_background": "light"
     },
     "output_type": "display_data"
    }
   ],
   "source": [
    "c3_ratings = com_rating(com3_users)\n",
    "plt.title(\"Cluster 3\")\n",
    "rating_hist(c3_ratings)"
   ]
  },
  {
   "cell_type": "code",
   "execution_count": 78,
   "metadata": {},
   "outputs": [],
   "source": [
    "def find_freq_tag(user_list, num):\n",
    "    all_tags = []\n",
    "    tags = user_clean_tags(user_list)\n",
    "    for user in tags:\n",
    "        for tag in tags[user]:\n",
    "            all_tags.append(tag)\n",
    "    tag_count = dict(Counter(all_tags))    \n",
    "    results = sorted(tag_count, key=tag_count.get, reverse=True)[:num]\n",
    "    return results"
   ]
  },
  {
   "cell_type": "markdown",
   "metadata": {},
   "source": [
    "## Top tags given by each cluster"
   ]
  },
  {
   "cell_type": "code",
   "execution_count": 79,
   "metadata": {},
   "outputs": [
    {
     "data": {
      "text/plain": [
       "['comedy',\n",
       " 'horror',\n",
       " 'bad',\n",
       " 'plot',\n",
       " 'dark',\n",
       " 'story',\n",
       " 'humor',\n",
       " 'ending',\n",
       " 'action',\n",
       " 'atmospheric',\n",
       " 'twist',\n",
       " 'predictable',\n",
       " 'acting',\n",
       " 'family',\n",
       " 'based',\n",
       " 'scifi',\n",
       " 'visually',\n",
       " 'lgbtq+',\n",
       " 'thriller',\n",
       " 'great']"
      ]
     },
     "execution_count": 79,
     "metadata": {},
     "output_type": "execute_result"
    }
   ],
   "source": [
    "find_freq_tag(com1_users, 20)"
   ]
  },
  {
   "cell_type": "code",
   "execution_count": 80,
   "metadata": {},
   "outputs": [
    {
     "data": {
      "text/plain": [
       "['comedy',\n",
       " 'atmospheric',\n",
       " 'scifi',\n",
       " 'ending',\n",
       " 'based',\n",
       " 'dark',\n",
       " 'romance',\n",
       " 'nudity',\n",
       " 'twist',\n",
       " 'space',\n",
       " 'film',\n",
       " 'visually',\n",
       " 'book',\n",
       " 'drama',\n",
       " 'noir',\n",
       " 'dystopia',\n",
       " 'horror',\n",
       " 'fantasy',\n",
       " 'appealing',\n",
       " 'love']"
      ]
     },
     "execution_count": 80,
     "metadata": {},
     "output_type": "execute_result"
    }
   ],
   "source": [
    "find_freq_tag(com2_users, 20)"
   ]
  },
  {
   "cell_type": "code",
   "execution_count": 81,
   "metadata": {},
   "outputs": [
    {
     "data": {
      "text/plain": [
       "['story',\n",
       " 'true',\n",
       " 'based',\n",
       " 'dark',\n",
       " 'war',\n",
       " 'scifi',\n",
       " 'comedy',\n",
       " 'history',\n",
       " 'classic',\n",
       " 'drama',\n",
       " 'period',\n",
       " 'romantic',\n",
       " 'dialogue',\n",
       " 'romance',\n",
       " 'psychology',\n",
       " 'book',\n",
       " 'philosophical',\n",
       " 'thoughtprovoking',\n",
       " 'social',\n",
       " 'funny']"
      ]
     },
     "execution_count": 81,
     "metadata": {},
     "output_type": "execute_result"
    }
   ],
   "source": [
    "find_freq_tag(com3_users, 20)"
   ]
  },
  {
   "cell_type": "code",
   "execution_count": 188,
   "metadata": {},
   "outputs": [],
   "source": [
    "f1 = find_freq_tag(com1_users, 50)\n",
    "f2 = find_freq_tag(com2_users, 50)\n",
    "f3 = find_freq_tag(com3_users, 50)"
   ]
  },
  {
   "cell_type": "code",
   "execution_count": 194,
   "metadata": {},
   "outputs": [],
   "source": [
    "common_tags = []\n",
    "\n",
    "for i in f1:\n",
    "    if i in f2 and i in f3:\n",
    "        a = f1.index(i)\n",
    "        b = f2.index(i)\n",
    "        c = f3.index(i)\n",
    "    \n",
    "    common_tags.append([i, a+b+c])\n",
    "    \n",
    "common_tags = sorted(common_tags, key=lambda x: x[1], reverse=False)"
   ]
  },
  {
   "cell_type": "markdown",
   "metadata": {},
   "source": [
    "## Top 5 common tags among communities"
   ]
  },
  {
   "cell_type": "code",
   "execution_count": 197,
   "metadata": {},
   "outputs": [
    {
     "data": {
      "text/plain": [
       "['comedy', 'dark', 'based', 'scifi', 'visually']"
      ]
     },
     "execution_count": 197,
     "metadata": {},
     "output_type": "execute_result"
    }
   ],
   "source": [
    "top5_common = [ i[0] for i in common_tags[:5] ]\n",
    "top5_common"
   ]
  },
  {
   "cell_type": "markdown",
   "metadata": {},
   "source": [
    "## Top 5 unique tags for each community"
   ]
  },
  {
   "cell_type": "code",
   "execution_count": 216,
   "metadata": {},
   "outputs": [
    {
     "data": {
      "text/plain": [
       "['bad', 'horror', 'ending', 'humor', 'plot']"
      ]
     },
     "execution_count": 216,
     "metadata": {},
     "output_type": "execute_result"
    }
   ],
   "source": [
    "list(set(f1[:10]) - set(top5_common))[:5]"
   ]
  },
  {
   "cell_type": "code",
   "execution_count": 217,
   "metadata": {},
   "outputs": [
    {
     "data": {
      "text/plain": [
       "['twist', 'nudity', 'romance', 'ending', 'space']"
      ]
     },
     "execution_count": 217,
     "metadata": {},
     "output_type": "execute_result"
    }
   ],
   "source": [
    "list(set(f2[:10]) - set(top5_common))[:5]"
   ]
  },
  {
   "cell_type": "code",
   "execution_count": 218,
   "metadata": {},
   "outputs": [
    {
     "data": {
      "text/plain": [
       "['war', 'true', 'drama', 'history', 'classic']"
      ]
     },
     "execution_count": 218,
     "metadata": {},
     "output_type": "execute_result"
    }
   ],
   "source": [
    "list(set(f3[:10]) - set(top5_common))[:5]"
   ]
  },
  {
   "cell_type": "code",
   "execution_count": 88,
   "metadata": {},
   "outputs": [],
   "source": [
    "df_movies = pd.read_csv('movie_master.txt', encoding='utf-8', sep='\\t')\n",
    "del df_movies['Unnamed: 0']"
   ]
  },
  {
   "cell_type": "code",
   "execution_count": 89,
   "metadata": {},
   "outputs": [
    {
     "data": {
      "text/html": [
       "<div>\n",
       "<style scoped>\n",
       "    .dataframe tbody tr th:only-of-type {\n",
       "        vertical-align: middle;\n",
       "    }\n",
       "\n",
       "    .dataframe tbody tr th {\n",
       "        vertical-align: top;\n",
       "    }\n",
       "\n",
       "    .dataframe thead th {\n",
       "        text-align: right;\n",
       "    }\n",
       "</style>\n",
       "<table border=\"1\" class=\"dataframe\">\n",
       "  <thead>\n",
       "    <tr style=\"text-align: right;\">\n",
       "      <th></th>\n",
       "      <th>movieId</th>\n",
       "      <th>title</th>\n",
       "      <th>genres</th>\n",
       "      <th>imdbId</th>\n",
       "      <th>tmdbId</th>\n",
       "    </tr>\n",
       "  </thead>\n",
       "  <tbody>\n",
       "    <tr>\n",
       "      <th>0</th>\n",
       "      <td>1</td>\n",
       "      <td>Toy Story (1995)</td>\n",
       "      <td>Adventure|Animation|Children|Comedy|Fantasy</td>\n",
       "      <td>114709</td>\n",
       "      <td>862.0</td>\n",
       "    </tr>\n",
       "    <tr>\n",
       "      <th>1</th>\n",
       "      <td>2</td>\n",
       "      <td>Jumanji (1995)</td>\n",
       "      <td>Adventure|Children|Fantasy</td>\n",
       "      <td>113497</td>\n",
       "      <td>8844.0</td>\n",
       "    </tr>\n",
       "    <tr>\n",
       "      <th>2</th>\n",
       "      <td>3</td>\n",
       "      <td>Grumpier Old Men (1995)</td>\n",
       "      <td>Comedy|Romance</td>\n",
       "      <td>113228</td>\n",
       "      <td>15602.0</td>\n",
       "    </tr>\n",
       "    <tr>\n",
       "      <th>3</th>\n",
       "      <td>4</td>\n",
       "      <td>Waiting to Exhale (1995)</td>\n",
       "      <td>Comedy|Drama|Romance</td>\n",
       "      <td>114885</td>\n",
       "      <td>31357.0</td>\n",
       "    </tr>\n",
       "    <tr>\n",
       "      <th>4</th>\n",
       "      <td>5</td>\n",
       "      <td>Father of the Bride Part II (1995)</td>\n",
       "      <td>Comedy</td>\n",
       "      <td>113041</td>\n",
       "      <td>11862.0</td>\n",
       "    </tr>\n",
       "  </tbody>\n",
       "</table>\n",
       "</div>"
      ],
      "text/plain": [
       "   movieId                               title  \\\n",
       "0        1                    Toy Story (1995)   \n",
       "1        2                      Jumanji (1995)   \n",
       "2        3             Grumpier Old Men (1995)   \n",
       "3        4            Waiting to Exhale (1995)   \n",
       "4        5  Father of the Bride Part II (1995)   \n",
       "\n",
       "                                        genres  imdbId   tmdbId  \n",
       "0  Adventure|Animation|Children|Comedy|Fantasy  114709    862.0  \n",
       "1                   Adventure|Children|Fantasy  113497   8844.0  \n",
       "2                               Comedy|Romance  113228  15602.0  \n",
       "3                         Comedy|Drama|Romance  114885  31357.0  \n",
       "4                                       Comedy  113041  11862.0  "
      ]
     },
     "execution_count": 89,
     "metadata": {},
     "output_type": "execute_result"
    }
   ],
   "source": [
    "df_movies.head()"
   ]
  },
  {
   "cell_type": "code",
   "execution_count": 112,
   "metadata": {},
   "outputs": [],
   "source": [
    "def find_freq_movie(user_list, num):\n",
    "    all_movies = []\n",
    "    movies = user_watch_movies(user_list)\n",
    "    for user in movies:\n",
    "        for movie in movies[user]:\n",
    "            all_movies.append(movie)\n",
    "    movie_count = dict(Counter(all_movies))    \n",
    "    results = sorted(movie_count, key=movie_count.get, reverse=True)[:num]\n",
    "    \n",
    "    output = []\n",
    "    \n",
    "    for i in range(0, len(results)):\n",
    "        movie_id = results[i]\n",
    "        output.append((list(df_movies[df_movies['movieId']==movie_id]['title']),\n",
    "                       list(df_movies[df_movies['movieId']==movie_id]['genres'])))\n",
    "    \n",
    "    final = []\n",
    "    for i in output:\n",
    "        movie=i[0][0]\n",
    "        genre=i[1][0]\n",
    "        final.append([movie, genre])\n",
    "    return final"
   ]
  },
  {
   "cell_type": "markdown",
   "metadata": {},
   "source": [
    "## Top movies watched by each cluster ##"
   ]
  },
  {
   "cell_type": "code",
   "execution_count": 113,
   "metadata": {},
   "outputs": [
    {
     "data": {
      "text/plain": [
       "[['Avengers: Infinity War - Part I (2018)', 'Action|Adventure|Sci-Fi'],\n",
       " ['Deadpool 2 (2018)', 'Action|Comedy|Sci-Fi'],\n",
       " ['Solo: A Star Wars Story (2018)', 'Action|Adventure|Children|Sci-Fi'],\n",
       " ['Mission: Impossible - Fallout (2018)', 'Action|Adventure|Thriller'],\n",
       " ['Thor: Ragnarok (2017)', 'Action|Adventure|Sci-Fi'],\n",
       " ['Coco (2017)', 'Adventure|Animation|Children'],\n",
       " ['Three Billboards Outside Ebbing, Missouri (2017)', 'Crime|Drama'],\n",
       " ['Upgrade (2018)', 'Action|Comedy|Horror|Sci-Fi|Thriller'],\n",
       " ['Black Panther (2017)', 'Action|Adventure|Sci-Fi'],\n",
       " ['A Quiet Place (2018)', 'Drama|Horror|Thriller']]"
      ]
     },
     "execution_count": 113,
     "metadata": {},
     "output_type": "execute_result"
    }
   ],
   "source": [
    "find_freq_movie(com1_users, 10)"
   ]
  },
  {
   "cell_type": "code",
   "execution_count": 114,
   "metadata": {},
   "outputs": [
    {
     "data": {
      "text/plain": [
       "[['Lord of the Rings: The Return of the King, The (2003)',\n",
       "  'Action|Adventure|Drama|Fantasy'],\n",
       " ['Lord of the Rings: The Fellowship of the Ring, The (2001)',\n",
       "  'Adventure|Fantasy'],\n",
       " ['Inception (2010)', 'Action|Crime|Drama|Mystery|Sci-Fi|Thriller|IMAX'],\n",
       " ['Ratatouille (2007)', 'Animation|Children|Drama'],\n",
       " ['Lord of the Rings: The Two Towers, The (2002)', 'Adventure|Fantasy'],\n",
       " ['The Hunger Games (2012)', 'Action|Adventure|Drama|Sci-Fi|Thriller'],\n",
       " ['Gladiator (2000)', 'Action|Adventure|Drama'],\n",
       " ['Avatar (2009)', 'Action|Adventure|Sci-Fi|IMAX'],\n",
       " ['Pirates of the Caribbean: The Curse of the Black Pearl (2003)',\n",
       "  'Action|Adventure|Comedy|Fantasy'],\n",
       " ['Shrek (2001)', 'Adventure|Animation|Children|Comedy|Fantasy|Romance']]"
      ]
     },
     "execution_count": 114,
     "metadata": {},
     "output_type": "execute_result"
    }
   ],
   "source": [
    "find_freq_movie(com2_users, 10)"
   ]
  },
  {
   "cell_type": "code",
   "execution_count": 115,
   "metadata": {},
   "outputs": [
    {
     "data": {
      "text/plain": [
       "[['Shawshank Redemption, The (1994)', 'Crime|Drama'],\n",
       " ['Matrix, The (1999)', 'Action|Sci-Fi|Thriller'],\n",
       " ['Fight Club (1999)', 'Action|Crime|Drama|Thriller'],\n",
       " ['Inception (2010)', 'Action|Crime|Drama|Mystery|Sci-Fi|Thriller|IMAX'],\n",
       " ['Lord of the Rings: The Return of the King, The (2003)',\n",
       "  'Action|Adventure|Drama|Fantasy'],\n",
       " ['Pulp Fiction (1994)', 'Comedy|Crime|Drama|Thriller'],\n",
       " ['Lord of the Rings: The Fellowship of the Ring, The (2001)',\n",
       "  'Adventure|Fantasy'],\n",
       " ['Lord of the Rings: The Two Towers, The (2002)', 'Adventure|Fantasy'],\n",
       " [\"Schindler's List (1993)\", 'Drama|War'],\n",
       " ['Forrest Gump (1994)', 'Comedy|Drama|Romance|War']]"
      ]
     },
     "execution_count": 115,
     "metadata": {},
     "output_type": "execute_result"
    }
   ],
   "source": [
    "find_freq_movie(com3_users, 10)"
   ]
  },
  {
   "cell_type": "markdown",
   "metadata": {},
   "source": [
    "## Benchmarks for positive/negative tags for KH"
   ]
  },
  {
   "cell_type": "code",
   "execution_count": null,
   "metadata": {},
   "outputs": [],
   "source": [
    "def user_clean_tags(user_list):\n",
    "    \n",
    "    df_half2 = df_half[pd.notnull(df_half['tag_combined'])]\n",
    "    \n",
    "    user_tag_noNAN ={}\n",
    "    for user in user_list:\n",
    "        if user not in user_tag_noNAN:\n",
    "            user_tag_noNAN[user]=list(df_half2[df_half2['userId']==user]['tag_combined'])\n",
    "   \n",
    "    user_tag_clean = {}\n",
    "    stopwords_list = stopwords.words(\"english\")\n",
    "\n",
    "    for user in user_list:\n",
    "        user_tag_clean[user]=[]\n",
    "        for tags in user_tag_noNAN[user]:\n",
    "            tags = tags[1:-1] # remove '{' and '}'\n",
    "            tags = [i for i in tags.split(', ')]\n",
    "\n",
    "            for tag in tags:\n",
    "                tag = [j for j in tag.split(' ')]\n",
    "                tag = [j.lower() for j in tag]\n",
    "                tag = [j.replace('-','') for j in tag]\n",
    "                tag = [j for j in tag if j not in stopwords_list]\n",
    "                user_tag_clean[user]+= tag\n",
    "                \n",
    "    return user_tag_clean"
   ]
  },
  {
   "cell_type": "code",
   "execution_count": null,
   "metadata": {},
   "outputs": [],
   "source": [
    "def com_sentiments(user_list):\n",
    "    x = user_clean_tags(user_list)\n",
    "    user_sentiment = {}\n",
    "    for user, tags in x.items():\n",
    "        user_sentiment[user] = round(cal_sentiment(tags)*2)/2\n",
    "        \n",
    "    return user_sentiment"
   ]
  },
  {
   "cell_type": "code",
   "execution_count": 130,
   "metadata": {},
   "outputs": [],
   "source": [
    "c1_scores = com_sentiments(com1_users)\n",
    "c2_scores = com_sentiments(com2_users)\n",
    "c3_scores = com_sentiments(com3_users)\n",
    "all_scores = {**c1_scores, **c2_scores, **c3_scores}"
   ]
  },
  {
   "cell_type": "code",
   "execution_count": 134,
   "metadata": {},
   "outputs": [],
   "source": [
    "def cal(user_scores):\n",
    "    scores = []\n",
    "    for key, value in user_scores.items():\n",
    "        if value != 0:\n",
    "            scores.append(value)\n",
    "    mean = np.mean(scores)\n",
    "    std = np.std(scores)\n",
    "    return [mean, std]"
   ]
  },
  {
   "cell_type": "code",
   "execution_count": 138,
   "metadata": {},
   "outputs": [],
   "source": [
    "c1_benchmark = cal(c1_scores)\n",
    "c2_benchmark = cal(c2_scores)\n",
    "c3_benchmark = cal(c3_scores)\n",
    "all_benchmark = cal(all_scores)\n"
   ]
  },
  {
   "cell_type": "code",
   "execution_count": 143,
   "metadata": {},
   "outputs": [
    {
     "data": {
      "text/plain": [
       "[5.542105263157895, 0.8845550707164558]"
      ]
     },
     "execution_count": 143,
     "metadata": {},
     "output_type": "execute_result"
    }
   ],
   "source": [
    "c1_benchmark"
   ]
  },
  {
   "cell_type": "code",
   "execution_count": 144,
   "metadata": {},
   "outputs": [
    {
     "data": {
      "text/plain": [
       "[5.798507462686567, 0.7920298006818866]"
      ]
     },
     "execution_count": 144,
     "metadata": {},
     "output_type": "execute_result"
    }
   ],
   "source": [
    "c2_benchmark"
   ]
  },
  {
   "cell_type": "code",
   "execution_count": 145,
   "metadata": {},
   "outputs": [
    {
     "data": {
      "text/plain": [
       "[5.5, 0.9555330859059091]"
      ]
     },
     "execution_count": 145,
     "metadata": {},
     "output_type": "execute_result"
    }
   ],
   "source": [
    "c3_benchmark"
   ]
  },
  {
   "cell_type": "code",
   "execution_count": 146,
   "metadata": {},
   "outputs": [
    {
     "data": {
      "text/plain": [
       "[5.629729729729729, 0.8711175999254791]"
      ]
     },
     "execution_count": 146,
     "metadata": {},
     "output_type": "execute_result"
    }
   ],
   "source": [
    "all_benchmark"
   ]
  },
  {
   "cell_type": "code",
   "execution_count": null,
   "metadata": {},
   "outputs": [],
   "source": []
  }
 ],
 "metadata": {
  "kernelspec": {
   "display_name": "Python 3",
   "language": "python",
   "name": "python3"
  },
  "language_info": {
   "codemirror_mode": {
    "name": "ipython",
    "version": 3
   },
   "file_extension": ".py",
   "mimetype": "text/x-python",
   "name": "python",
   "nbconvert_exporter": "python",
   "pygments_lexer": "ipython3",
   "version": "3.7.0"
  }
 },
 "nbformat": 4,
 "nbformat_minor": 2
}
